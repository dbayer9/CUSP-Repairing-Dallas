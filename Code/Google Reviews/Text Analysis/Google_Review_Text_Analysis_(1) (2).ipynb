{
 "cells": [
  {
   "cell_type": "code",
   "execution_count": 1,
   "metadata": {
    "id": "7VPu7lCtREHa",
    "outputId": "17529e6c-2f30-411d-dedd-3db8456c51c2"
   },
   "outputs": [
    {
     "name": "stdout",
     "output_type": "stream",
     "text": [
      "Note: you may need to restart the kernel to use updated packages.\n"
     ]
    }
   ],
   "source": [
    "# Install package for natural language processing\n",
    "%pip install --quiet nltk\n",
    "\n",
    "# data manipulation\n",
    "import pandas as pd\n",
    "import numpy as np\n",
    "import os\n",
    "\n",
    "# text analysis tools\n",
    "import nltk\n",
    "from sklearn.feature_extraction.text import CountVectorizer, TfidfTransformer\n",
    "from sklearn.decomposition import LatentDirichletAllocation\n",
    "from sklearn import preprocessing\n",
    "from nltk import SnowballStemmer\n",
    "import string"
   ]
  },
  {
   "cell_type": "code",
   "execution_count": 2,
   "metadata": {
    "id": "bvJFJhVUQ7Ko"
   },
   "outputs": [],
   "source": [
    "data = pd.read_excel(\"Google Review Version2.xlsx\")"
   ]
  },
  {
   "cell_type": "code",
   "execution_count": null,
   "metadata": {
    "colab": {
     "base_uri": "https://localhost:8080/"
    },
    "id": "ourB1PIvKAyQ",
    "outputId": "32d0e3eb-640f-4d48-da50-112c8101660c"
   },
   "outputs": [
    {
     "ename": "ModuleNotFoundError",
     "evalue": "No module named 'google.colab'",
     "output_type": "error",
     "traceback": [
      "\u001b[0;31m---------------------------------------------------------------------------\u001b[0m",
      "\u001b[0;31mModuleNotFoundError\u001b[0m                       Traceback (most recent call last)",
      "\u001b[0;32m<ipython-input-4-d5df0069828e>\u001b[0m in \u001b[0;36m<module>\u001b[0;34m\u001b[0m\n\u001b[0;32m----> 1\u001b[0;31m \u001b[0;32mfrom\u001b[0m \u001b[0mgoogle\u001b[0m\u001b[0;34m.\u001b[0m\u001b[0mcolab\u001b[0m \u001b[0;32mimport\u001b[0m \u001b[0mdrive\u001b[0m\u001b[0;34m\u001b[0m\u001b[0;34m\u001b[0m\u001b[0m\n\u001b[0m\u001b[1;32m      2\u001b[0m \u001b[0mdrive\u001b[0m\u001b[0;34m.\u001b[0m\u001b[0mmount\u001b[0m\u001b[0;34m(\u001b[0m\u001b[0;34m'/content/drive'\u001b[0m\u001b[0;34m)\u001b[0m\u001b[0;34m\u001b[0m\u001b[0;34m\u001b[0m\u001b[0m\n",
      "\u001b[0;31mModuleNotFoundError\u001b[0m: No module named 'google.colab'"
     ]
    }
   ],
   "source": [
    "from google.colab import drive\n",
    "drive.mount('/content/drive')"
   ]
  },
  {
   "cell_type": "code",
   "execution_count": 3,
   "metadata": {
    "id": "SUDbxZ45bf85",
    "outputId": "94f86324-3dac-4610-f164-e864b19996cd"
   },
   "outputs": [
    {
     "data": {
      "text/html": [
       "<div>\n",
       "<style scoped>\n",
       "    .dataframe tbody tr th:only-of-type {\n",
       "        vertical-align: middle;\n",
       "    }\n",
       "\n",
       "    .dataframe tbody tr th {\n",
       "        vertical-align: top;\n",
       "    }\n",
       "\n",
       "    .dataframe thead th {\n",
       "        text-align: right;\n",
       "    }\n",
       "</style>\n",
       "<table border=\"1\" class=\"dataframe\">\n",
       "  <thead>\n",
       "    <tr style=\"text-align: right;\">\n",
       "      <th></th>\n",
       "      <th>title</th>\n",
       "      <th>href</th>\n",
       "      <th>score</th>\n",
       "      <th>location</th>\n",
       "      <th>lat</th>\n",
       "      <th>lon</th>\n",
       "      <th>review_content</th>\n",
       "      <th>review_time</th>\n",
       "      <th>create_time</th>\n",
       "    </tr>\n",
       "  </thead>\n",
       "  <tbody>\n",
       "    <tr>\n",
       "      <th>0</th>\n",
       "      <td>Lakeside Lofts</td>\n",
       "      <td>https://www.google.com/maps/search/Lakeside+Lo...</td>\n",
       "      <td>3.4</td>\n",
       "      <td>11500 Lago Vista E, Farmers Branch, TX 75234, ...</td>\n",
       "      <td>-96.923746</td>\n",
       "      <td>32.901693</td>\n",
       "      <td>This will be my home for a long time thanks to...</td>\n",
       "      <td>get time error</td>\n",
       "      <td>2022-05-03 17:31:59</td>\n",
       "    </tr>\n",
       "    <tr>\n",
       "      <th>1</th>\n",
       "      <td>Lakeside Lofts</td>\n",
       "      <td>https://www.google.com/maps/search/Lakeside+Lo...</td>\n",
       "      <td>3.4</td>\n",
       "      <td>11500 Lago Vista E, Farmers Branch, TX 75234, ...</td>\n",
       "      <td>-96.923746</td>\n",
       "      <td>32.901693</td>\n",
       "      <td>Apartment hunting is stressful and you never r...</td>\n",
       "      <td>get time error</td>\n",
       "      <td>2022-05-03 17:31:59</td>\n",
       "    </tr>\n",
       "    <tr>\n",
       "      <th>2</th>\n",
       "      <td>Lakeside Lofts</td>\n",
       "      <td>https://www.google.com/maps/search/Lakeside+Lo...</td>\n",
       "      <td>3.4</td>\n",
       "      <td>11500 Lago Vista E, Farmers Branch, TX 75234, ...</td>\n",
       "      <td>-96.923746</td>\n",
       "      <td>32.901693</td>\n",
       "      <td>I have lived at Lakeside Lofts for over a year...</td>\n",
       "      <td>get time error</td>\n",
       "      <td>2022-05-03 17:31:59</td>\n",
       "    </tr>\n",
       "    <tr>\n",
       "      <th>3</th>\n",
       "      <td>Lakeside Lofts</td>\n",
       "      <td>https://www.google.com/maps/search/Lakeside+Lo...</td>\n",
       "      <td>3.4</td>\n",
       "      <td>11500 Lago Vista E, Farmers Branch, TX 75234, ...</td>\n",
       "      <td>-96.923746</td>\n",
       "      <td>32.901693</td>\n",
       "      <td>I was a resident of this complex for 14 months...</td>\n",
       "      <td>get time error</td>\n",
       "      <td>2022-05-03 17:31:59</td>\n",
       "    </tr>\n",
       "    <tr>\n",
       "      <th>4</th>\n",
       "      <td>Lakeside Lofts</td>\n",
       "      <td>https://www.google.com/maps/search/Lakeside+Lo...</td>\n",
       "      <td>3.4</td>\n",
       "      <td>11500 Lago Vista E, Farmers Branch, TX 75234, ...</td>\n",
       "      <td>-96.923746</td>\n",
       "      <td>32.901693</td>\n",
       "      <td>I really love and enjoy the views, the walk ar...</td>\n",
       "      <td>get time error</td>\n",
       "      <td>2022-05-03 17:31:59</td>\n",
       "    </tr>\n",
       "  </tbody>\n",
       "</table>\n",
       "</div>"
      ],
      "text/plain": [
       "            title                                               href  score  \\\n",
       "0  Lakeside Lofts  https://www.google.com/maps/search/Lakeside+Lo...    3.4   \n",
       "1  Lakeside Lofts  https://www.google.com/maps/search/Lakeside+Lo...    3.4   \n",
       "2  Lakeside Lofts  https://www.google.com/maps/search/Lakeside+Lo...    3.4   \n",
       "3  Lakeside Lofts  https://www.google.com/maps/search/Lakeside+Lo...    3.4   \n",
       "4  Lakeside Lofts  https://www.google.com/maps/search/Lakeside+Lo...    3.4   \n",
       "\n",
       "                                            location        lat        lon  \\\n",
       "0  11500 Lago Vista E, Farmers Branch, TX 75234, ... -96.923746  32.901693   \n",
       "1  11500 Lago Vista E, Farmers Branch, TX 75234, ... -96.923746  32.901693   \n",
       "2  11500 Lago Vista E, Farmers Branch, TX 75234, ... -96.923746  32.901693   \n",
       "3  11500 Lago Vista E, Farmers Branch, TX 75234, ... -96.923746  32.901693   \n",
       "4  11500 Lago Vista E, Farmers Branch, TX 75234, ... -96.923746  32.901693   \n",
       "\n",
       "                                      review_content     review_time  \\\n",
       "0  This will be my home for a long time thanks to...  get time error   \n",
       "1  Apartment hunting is stressful and you never r...  get time error   \n",
       "2  I have lived at Lakeside Lofts for over a year...  get time error   \n",
       "3  I was a resident of this complex for 14 months...  get time error   \n",
       "4  I really love and enjoy the views, the walk ar...  get time error   \n",
       "\n",
       "           create_time  \n",
       "0  2022-05-03 17:31:59  \n",
       "1  2022-05-03 17:31:59  \n",
       "2  2022-05-03 17:31:59  \n",
       "3  2022-05-03 17:31:59  \n",
       "4  2022-05-03 17:31:59  "
      ]
     },
     "execution_count": 3,
     "metadata": {},
     "output_type": "execute_result"
    }
   ],
   "source": [
    "data.head()"
   ]
  },
  {
   "cell_type": "code",
   "execution_count": 4,
   "metadata": {},
   "outputs": [],
   "source": [
    "import geopandas as gpd\n",
    "from shapely.geometry import Point, LineString, Polygon, MultiPolygon"
   ]
  },
  {
   "cell_type": "code",
   "execution_count": 8,
   "metadata": {},
   "outputs": [],
   "source": [
    "dallas = gpd.read_file('01_City_Geo.geojson')\n",
    "dallas = dallas.to_crs(\"EPSG:4326\")\n",
    "dallas = dallas[['GEOID', 'geometry']]"
   ]
  },
  {
   "cell_type": "code",
   "execution_count": 100,
   "metadata": {
    "id": "5Uk2AXifwNl5"
   },
   "outputs": [],
   "source": [
    "review_data = dallas\n",
    "review_num = [0 for i in range(len(review_data))]\n",
    "original_geo_data = gpd.GeoDataFrame(data)\n",
    "original_geo_data[\"geometry\"]= gpd.GeoDataFrame(geometry=gpd.points_from_xy(data[\"lat\"],data[\"lon\"]))\n",
    "for i,row in original_geo_data.iterrows():\n",
    "    point = row[\"geometry\"]\n",
    "    if len(review_data[review_data.intersects(point)]) != 0:\n",
    "        temp_series = review_data.intersects(point)\n",
    "        this_index = temp_series[temp_series].index[0]\n",
    "        review_num[this_index] += 1\n",
    "review_data[\"review_num\"] = review_num"
   ]
  },
  {
   "cell_type": "code",
   "execution_count": 101,
   "metadata": {},
   "outputs": [
    {
     "data": {
      "text/html": [
       "<div>\n",
       "<style scoped>\n",
       "    .dataframe tbody tr th:only-of-type {\n",
       "        vertical-align: middle;\n",
       "    }\n",
       "\n",
       "    .dataframe tbody tr th {\n",
       "        vertical-align: top;\n",
       "    }\n",
       "\n",
       "    .dataframe thead th {\n",
       "        text-align: right;\n",
       "    }\n",
       "</style>\n",
       "<table border=\"1\" class=\"dataframe\">\n",
       "  <thead>\n",
       "    <tr style=\"text-align: right;\">\n",
       "      <th></th>\n",
       "      <th>GEOID</th>\n",
       "      <th>geometry</th>\n",
       "      <th>review_num</th>\n",
       "    </tr>\n",
       "  </thead>\n",
       "  <tbody>\n",
       "    <tr>\n",
       "      <th>0</th>\n",
       "      <td>48113010704</td>\n",
       "      <td>MULTIPOLYGON (((-96.91997 32.73133, -96.91983 ...</td>\n",
       "      <td>60</td>\n",
       "    </tr>\n",
       "    <tr>\n",
       "      <th>1</th>\n",
       "      <td>48113006501</td>\n",
       "      <td>MULTIPOLYGON (((-96.89847 32.73125, -96.89814 ...</td>\n",
       "      <td>0</td>\n",
       "    </tr>\n",
       "    <tr>\n",
       "      <th>2</th>\n",
       "      <td>48113006700</td>\n",
       "      <td>MULTIPOLYGON (((-96.90339 32.74846, -96.90332 ...</td>\n",
       "      <td>23</td>\n",
       "    </tr>\n",
       "    <tr>\n",
       "      <th>3</th>\n",
       "      <td>48113010701</td>\n",
       "      <td>MULTIPOLYGON (((-96.92601 32.75312, -96.92586 ...</td>\n",
       "      <td>70</td>\n",
       "    </tr>\n",
       "    <tr>\n",
       "      <th>4</th>\n",
       "      <td>48113019900</td>\n",
       "      <td>MULTIPOLYGON (((-96.89848 32.73454, -96.89844 ...</td>\n",
       "      <td>0</td>\n",
       "    </tr>\n",
       "  </tbody>\n",
       "</table>\n",
       "</div>"
      ],
      "text/plain": [
       "         GEOID                                           geometry  review_num\n",
       "0  48113010704  MULTIPOLYGON (((-96.91997 32.73133, -96.91983 ...          60\n",
       "1  48113006501  MULTIPOLYGON (((-96.89847 32.73125, -96.89814 ...           0\n",
       "2  48113006700  MULTIPOLYGON (((-96.90339 32.74846, -96.90332 ...          23\n",
       "3  48113010701  MULTIPOLYGON (((-96.92601 32.75312, -96.92586 ...          70\n",
       "4  48113019900  MULTIPOLYGON (((-96.89848 32.73454, -96.89844 ...           0"
      ]
     },
     "execution_count": 101,
     "metadata": {},
     "output_type": "execute_result"
    }
   ],
   "source": [
    "review_data.head()"
   ]
  },
  {
   "cell_type": "code",
   "execution_count": 102,
   "metadata": {},
   "outputs": [
    {
     "name": "stderr",
     "output_type": "stream",
     "text": [
      "/opt/anaconda3/envs/mypytorch/lib/python3.8/site-packages/mapclassify/classifiers.py:238: UserWarning: Warning: Not enough unique values in array to form k classes\n",
      "  Warn(\n",
      "/opt/anaconda3/envs/mypytorch/lib/python3.8/site-packages/mapclassify/classifiers.py:241: UserWarning: Warning: setting k to 4\n",
      "  Warn(\"Warning: setting k to %d\" % k_q, UserWarning)\n"
     ]
    },
    {
     "data": {
      "text/plain": [
       "<AxesSubplot:>"
      ]
     },
     "execution_count": 102,
     "metadata": {},
     "output_type": "execute_result"
    },
    {
     "data": {
      "image/png": "[encoded data removed]",
      "text/plain": [
       "<Figure size 1440x720 with 1 Axes>"
      ]
     },
     "metadata": {
      "needs_background": "light"
     },
     "output_type": "display_data"
    }
   ],
   "source": [
    "review_data.plot(column='review_num', legend=True, figsize=(20,10),k=10, scheme='Quantiles'\n",
    "           , legend_kwds={'loc': 'lower left'}, cmap='viridis_r')"
   ]
  },
  {
   "cell_type": "code",
   "execution_count": 10,
   "metadata": {
    "id": "6-2jhfR0wNl6"
   },
   "outputs": [],
   "source": [
    "def find_multi(point):\n",
    "    if len(dallas[dallas.intersects(point)]) != 0:\n",
    "        return dallas[dallas.intersects(point)].iloc[0][\"geometry\"]\n",
    "    else:\n",
    "        return point"
   ]
  },
  {
   "cell_type": "code",
   "execution_count": 11,
   "metadata": {
    "id": "or6PqFekRJaq",
    "outputId": "c21f5059-3ce6-4c4e-f1b6-05350ea698fb"
   },
   "outputs": [
    {
     "data": {
      "text/plain": [
       "Index(['title', 'href', 'score', 'location', 'lat', 'lon', 'review_content',\n",
       "       'review_time', 'create_time'],\n",
       "      dtype='object')"
      ]
     },
     "execution_count": 11,
     "metadata": {},
     "output_type": "execute_result"
    }
   ],
   "source": [
    "data.columns"
   ]
  },
  {
   "cell_type": "code",
   "execution_count": 12,
   "metadata": {
    "id": "kZc2D1pUZxMO"
   },
   "outputs": [],
   "source": [
    "# some basic descriptive analytics on data\n",
    "\n",
    "# converting to geo data and plotting choropleth\n",
    "# plotting a temporal graph\n",
    "# plotting by stop reason\n",
    "# plotting by race\n",
    "# stopped vs person arrested flag based on race; space\n",
    " "
   ]
  },
  {
   "cell_type": "code",
   "execution_count": 13,
   "metadata": {
    "id": "BWyDjP-CwiMm",
    "outputId": "511f16f3-9658-4a25-80c1-98f37fe96906",
    "scrolled": true
   },
   "outputs": [
    {
     "data": {
      "text/plain": [
       "Good                                                                                                                                                                                                                                                 9\n",
       "Nice                                                                                                                                                                                                                                                 7\n",
       "Ok                                                                                                                                                                                                                                                   5\n",
       "Everything is always so clean and comfortable! The staff are always extremely welcoming and hospitable! I love this place!                                                                                                                           3\n",
       "Beautiful                                                                                                                                                                                                                                            3\n",
       "                                                                                                                                                                                                                                                    ..\n",
       "Just moved here and it’s what you make of it. Could use some updating but otherwise It’s a cool place to lay ya head for awhile and learn about the history of the neighborhood and meet people.                                                     1\n",
       "I lived there for 2 years. The management changed several times. The office personnel was horrible. I paid my rent on time every month. My kitchen floor was a disaster. It was about to fall in. It took a housing inspection for them to fix …     1\n",
       "It's a cheap place to seek shelter, but unless you're easy to please or you have no where else to go, it's a place to avoid. Brenda the management overseer does the least amount of work possible and if you are ever in a bind or need help …      1\n",
       "Not many places am I a fan of so many businesses within a lifestyle village. Would love to move my own business into the offices there, hear they are great spaces. And the residential to open soon you know will be fantastic. Not to mention …    1\n",
       "I was ready to move into my apartment for college until they called and said our room had a roach infestation. They moved our room, but we had to pay an extra fee for our washer and dryer installation because we changed the address to come …    1\n",
       "Name: review_content, Length: 4736, dtype: int64"
      ]
     },
     "execution_count": 13,
     "metadata": {},
     "output_type": "execute_result"
    }
   ],
   "source": [
    "data['review_content'].value_counts()"
   ]
  },
  {
   "cell_type": "code",
   "execution_count": 14,
   "metadata": {
    "id": "b-A8nVme8VmN",
    "outputId": "52ac106d-e941-4fa7-a8fe-bd7aee9fdc0e"
   },
   "outputs": [
    {
     "data": {
      "text/plain": [
       "0    this will be my home for a long time thanks to...\n",
       "1    apartment hunting is stressful and you never r...\n",
       "2    i have lived at lakeside lofts for over a year...\n",
       "3    i was a resident of this complex for 14 months...\n",
       "4    i really love and enjoy the views, the walk ar...\n",
       "Name: review_content_low, dtype: object"
      ]
     },
     "execution_count": 14,
     "metadata": {},
     "output_type": "execute_result"
    }
   ],
   "source": [
    "data['review_content_low']=data['review_content'].str.lower()\n",
    "data['review_content_low'].head()"
   ]
  },
  {
   "cell_type": "code",
   "execution_count": 15,
   "metadata": {
    "id": "5ZBKqsLx8VmO"
   },
   "outputs": [],
   "source": [
    "#5.8 Defining set containing all stopwords in English\n",
    "stopwordlist = ['a', 'about', 'above', 'after', 'again', 'ain', 'all', 'am', 'an',\n",
    "             'and','any','are', 'as', 'at', 'be', 'because', 'been', 'before',\n",
    "             'being', 'below', 'between','both', 'by', 'can', 'd', 'did', 'do',\n",
    "             'does', 'doing', 'down', 'during', 'each','few', 'for', 'from',\n",
    "             'further', 'had', 'has', 'have', 'having', 'he', 'her', 'here',\n",
    "             'hers', 'herself', 'him', 'himself', 'his', 'how', 'i', 'if', 'in',\n",
    "             'into','is', 'it', 'its', 'itself', 'just', 'll', 'm', 'ma',\n",
    "             'me', 'more', 'most','my', 'myself', 'now', 'o', 'of', 'on', 'once',\n",
    "             'only', 'or', 'other', 'our', 'ours','ourselves', 'out', 'own', 're','s', 'same', 'she', \"shes\", 'should', \"shouldve\",'so', 'some', 'such',\n",
    "             't', 'than', 'that', \"thatll\", 'the', 'their', 'theirs', 'them',\n",
    "             'themselves', 'then', 'there', 'these', 'they', 'this', 'those',\n",
    "             'through', 'to', 'too','under', 'until', 'up', 've', 'very', 'was',\n",
    "             'we', 'were', 'what', 'when', 'where','which','while', 'who', 'whom',\n",
    "             'why', 'will', 'with', 'won', 'y', 'you', \"youd\",\"youll\", \"youre\",\n",
    "             \"youve\", 'your', 'yours', 'yourself', 'yourselves', 'get', 'xyz', 'friendly','staff','management','pet','park']"
   ]
  },
  {
   "cell_type": "code",
   "execution_count": 16,
   "metadata": {
    "id": "PWjMJZwL8VmP"
   },
   "outputs": [],
   "source": [
    "#5.9 Cleaning and removing the above stop words list from the tweet text\n",
    "STOPWORDS = set(stopwordlist)\n",
    "def cleaning_stopwords(text):\n",
    "    return \" \".join([word for word in str(text).split() if word not in STOPWORDS])"
   ]
  },
  {
   "cell_type": "code",
   "execution_count": 17,
   "metadata": {
    "id": "zLvkyRGe8VmP",
    "outputId": "fa5b64b3-aecf-446f-81a8-a20cd14a8291"
   },
   "outputs": [
    {
     "data": {
      "text/plain": [
       "0    home long time thanks community area pools! ev...\n",
       "1    apartment hunting stressful never really know ...\n",
       "2    lived lakeside lofts over year & plan renewing...\n",
       "3    resident complex 14 months first moved i. nice...\n",
       "4    really love enjoy views, walk around lake, 3 p...\n",
       "Name: review_content_low, dtype: object"
      ]
     },
     "execution_count": 17,
     "metadata": {},
     "output_type": "execute_result"
    }
   ],
   "source": [
    "data['review_content_low'] = data['review_content_low'].apply(lambda text: cleaning_stopwords(text))\n",
    "data['review_content_low'].head()"
   ]
  },
  {
   "cell_type": "code",
   "execution_count": 18,
   "metadata": {
    "id": "onSBBhvC8VmQ"
   },
   "outputs": [],
   "source": [
    "#5.11 Cleaning and removing repeating characters\n",
    "import re\n",
    "def cleaning_repeating_char(text):\n",
    "    return re.sub(r'(.)1+', r'1', text)"
   ]
  },
  {
   "cell_type": "code",
   "execution_count": 19,
   "metadata": {
    "id": "eUbs6z4q8VmQ",
    "outputId": "d216633a-dd3b-497c-fa7b-9580bb87d0fa"
   },
   "outputs": [
    {
     "data": {
      "text/plain": [
       "4830    husband little over week love it. christy nanc...\n",
       "4831    amazing ! ladies willing work issues maintenan...\n",
       "4832    team bias - hispanic, apartment not, beware! p...\n",
       "4833    mailbox keeps getting broken i’ve pay fixed al...\n",
       "4834    got mugged here. resident so, parked car got d...\n",
       "Name: review_content_low, dtype: object"
      ]
     },
     "execution_count": 19,
     "metadata": {},
     "output_type": "execute_result"
    }
   ],
   "source": [
    "data['review_content_low'] = data['review_content_low'].apply(lambda x: cleaning_repeating_char(x))\n",
    "data['review_content_low'].tail()"
   ]
  },
  {
   "cell_type": "code",
   "execution_count": 20,
   "metadata": {
    "id": "MJVVmS6Z8VmR",
    "outputId": "968c7879-29cc-440d-cd57-925789664706"
   },
   "outputs": [
    {
     "data": {
      "text/plain": [
       "4830    husband little over week love it. christy nanc...\n",
       "4831    amazing ! ladies willing work issues maintenan...\n",
       "4832    team bias - hispanic, apartment not, beware! p...\n",
       "4833    mailbox keeps getting broken i’ve pay fixed al...\n",
       "4834    got mugged here. resident so, parked car got d...\n",
       "Name: review_content_low, dtype: object"
      ]
     },
     "execution_count": 20,
     "metadata": {},
     "output_type": "execute_result"
    }
   ],
   "source": [
    "#5.13 Cleaning and removing Numeric numbers\n",
    "def cleaning_numbers(data):\n",
    "    return re.sub('[0-9]+', '', data)\n",
    "data['review_content_low'] = data['review_content_low'].apply(lambda x: cleaning_numbers(x))\n",
    "data['review_content_low'].tail()"
   ]
  },
  {
   "cell_type": "code",
   "execution_count": 21,
   "metadata": {
    "id": "kHoekRTu8VmR",
    "outputId": "3b6b13fd-5caa-487b-8965-b3f66e98a1f5"
   },
   "outputs": [
    {
     "data": {
      "text/plain": [
       "0    home long time thanks community area pools! ev...\n",
       "1    apartment hunting stressful never really know ...\n",
       "2    lived lakeside lofts over year & plan renewing...\n",
       "3    resident complex months first moved i. nice qu...\n",
       "4    really love enjoy views, walk around lake,  po...\n",
       "Name: review_content_low, dtype: object"
      ]
     },
     "execution_count": 21,
     "metadata": {},
     "output_type": "execute_result"
    }
   ],
   "source": [
    "#5.15 Applying Stemming - this is a process of retaining just the core meaning of the word \n",
    "# enaxple - comforting to comfort\n",
    "import nltk\n",
    "st = nltk.PorterStemmer()\n",
    "def stemming_on_text(data):\n",
    "    text = [st.stem(word) for word in data]\n",
    "    return data\n",
    "data['review_content_low']= data['review_content_low'].apply(lambda x: stemming_on_text(x))\n",
    "data['review_content_low'].head()"
   ]
  },
  {
   "cell_type": "code",
   "execution_count": 22,
   "metadata": {
    "id": "rJ_2nzxm8VmS",
    "outputId": "f0478b47-2a05-471b-eaf6-9abb14b80a75"
   },
   "outputs": [
    {
     "name": "stdout",
     "output_type": "stream",
     "text": [
      "Requirement already satisfied: nltk in /opt/anaconda3/envs/mypytorch/lib/python3.8/site-packages (3.6.2)\r\n",
      "Requirement already satisfied: joblib in /opt/anaconda3/envs/mypytorch/lib/python3.8/site-packages (from nltk) (1.0.1)\r\n",
      "Requirement already satisfied: regex in /opt/anaconda3/envs/mypytorch/lib/python3.8/site-packages (from nltk) (2021.8.28)\r\n",
      "Requirement already satisfied: tqdm in /opt/anaconda3/envs/mypytorch/lib/python3.8/site-packages (from nltk) (4.56.0)\r\n",
      "Requirement already satisfied: click in /opt/anaconda3/envs/mypytorch/lib/python3.8/site-packages (from nltk) (8.0.3)\r\n"
     ]
    }
   ],
   "source": [
    "!pip install nltk"
   ]
  },
  {
   "cell_type": "code",
   "execution_count": 23,
   "metadata": {
    "id": "_8oczPou8VmS",
    "outputId": "865f9e30-1916-4811-8ebd-1836507235bd"
   },
   "outputs": [
    {
     "name": "stderr",
     "output_type": "stream",
     "text": [
      "[nltk_data] Error loading omw-1.4: <urlopen error [Errno 61]\n",
      "[nltk_data]     Connection refused>\n",
      "[nltk_data] Error loading wordnet: <urlopen error [Errno 61]\n",
      "[nltk_data]     Connection refused>\n"
     ]
    },
    {
     "data": {
      "text/plain": [
       "4830    husband little over week love it. christy nanc...\n",
       "4831    amazing ! ladies willing work issues maintenan...\n",
       "4832    team bias - hispanic, apartment not, beware! p...\n",
       "4833    mailbox keeps getting broken i’ve pay fixed al...\n",
       "4834    got mugged here. resident so, parked car got d...\n",
       "Name: review_content_low, dtype: object"
      ]
     },
     "execution_count": 23,
     "metadata": {},
     "output_type": "execute_result"
    }
   ],
   "source": [
    "#5.16 Applying Lemmatizer (https://www.datacamp.com/community/tutorials/stemming-lemmatization-python)\n",
    "import nltk\n",
    "nltk.download('omw-1.4')\n",
    "nltk.download('wordnet')\n",
    "lm = nltk.WordNetLemmatizer()\n",
    "def lemmatizer_on_text(data):\n",
    "    text = [lm.lemmatize(word) for word in data]\n",
    "    return data\n",
    "data['review_content_low']  = data['review_content_low'] .apply(lambda x: lemmatizer_on_text(x))\n",
    "data['review_content_low'] .tail()"
   ]
  },
  {
   "cell_type": "code",
   "execution_count": 24,
   "metadata": {
    "id": "iuDWOev38VmS",
    "outputId": "742c27d8-9ca6-4960-d046-5c0d6db3ec48"
   },
   "outputs": [
    {
     "data": {
      "text/plain": [
       "4830    [husband, little, over, week, love, it, ., chr...\n",
       "4831    [amazing, !, ladies, willing, work, issues, ma...\n",
       "4832    [team, bias, -, hispanic, ,, apartment, not, ,...\n",
       "4833    [mailbox, keeps, getting, broken, i’ve, pay, f...\n",
       "4834    [got, mugged, here, ., resident, so, ,, parked...\n",
       "Name: review_content_low, dtype: object"
      ]
     },
     "execution_count": 24,
     "metadata": {},
     "output_type": "execute_result"
    }
   ],
   "source": [
    "#5.14 Getting tokenization of tweet text\n",
    "def tokenize(data):\n",
    "    return [x for x in re.split(r\"([.,!?]+)?\\s+\", data) if x]\n",
    "#from nltk.tokenize import RegexpTokenizer\n",
    "#tokenizer = RegexpTokenizer(r'w+')\n",
    "data['review_content_low'] = data['review_content_low'].apply(lambda x: tokenize(x))\n",
    "data['review_content_low'].tail()"
   ]
  },
  {
   "cell_type": "code",
   "execution_count": 25,
   "metadata": {
    "id": "QSWKqAhm8VmT"
   },
   "outputs": [],
   "source": [
    "token_data = data.copy()"
   ]
  },
  {
   "cell_type": "code",
   "execution_count": 26,
   "metadata": {
    "id": "XHggFs7U8VmT",
    "outputId": "6cbfcca2-887a-442f-e44c-c0560c119aa9"
   },
   "outputs": [
    {
     "data": {
      "text/plain": [
       "0       [home, long, time, thanks, community, area, po...\n",
       "1       [apartment, hunting, stressful, never, really,...\n",
       "2       [lived, lakeside, lofts, over, year, &, plan, ...\n",
       "3       [resident, complex, months, first, moved, i, ....\n",
       "4       [really, love, enjoy, views, ,, walk, around, ...\n",
       "                              ...                        \n",
       "4830    [husband, little, over, week, love, it, ., chr...\n",
       "4831    [amazing, !, ladies, willing, work, issues, ma...\n",
       "4832    [team, bias, -, hispanic, ,, apartment, not, ,...\n",
       "4833    [mailbox, keeps, getting, broken, i’ve, pay, f...\n",
       "4834    [got, mugged, here, ., resident, so, ,, parked...\n",
       "Name: review_content_low, Length: 4835, dtype: object"
      ]
     },
     "execution_count": 26,
     "metadata": {},
     "output_type": "execute_result"
    }
   ],
   "source": [
    "token_data['review_content_low']"
   ]
  },
  {
   "cell_type": "code",
   "execution_count": 27,
   "metadata": {
    "id": "UvKiCUXz8VmT",
    "outputId": "bcd64442-d680-461f-de5b-b97f9a84589f"
   },
   "outputs": [
    {
     "name": "stdout",
     "output_type": "stream",
     "text": [
      "Requirement already satisfied: vaderSentiment in /opt/anaconda3/envs/mypytorch/lib/python3.8/site-packages (3.3.2)\n",
      "Requirement already satisfied: requests in /opt/anaconda3/envs/mypytorch/lib/python3.8/site-packages (from vaderSentiment) (2.27.1)\n",
      "Requirement already satisfied: urllib3<1.27,>=1.21.1 in /opt/anaconda3/envs/mypytorch/lib/python3.8/site-packages (from requests->vaderSentiment) (1.26.4)\n",
      "Requirement already satisfied: charset-normalizer~=2.0.0 in /opt/anaconda3/envs/mypytorch/lib/python3.8/site-packages (from requests->vaderSentiment) (2.0.12)\n",
      "Requirement already satisfied: certifi>=2017.4.17 in /opt/anaconda3/envs/mypytorch/lib/python3.8/site-packages (from requests->vaderSentiment) (2021.10.8)\n",
      "Requirement already satisfied: idna<4,>=2.5 in /opt/anaconda3/envs/mypytorch/lib/python3.8/site-packages (from requests->vaderSentiment) (2.10)\n"
     ]
    }
   ],
   "source": [
    "!pip install vaderSentiment\n",
    "from vaderSentiment.vaderSentiment import SentimentIntensityAnalyzer"
   ]
  },
  {
   "cell_type": "code",
   "execution_count": 28,
   "metadata": {
    "id": "o0Px5lrt8VmT"
   },
   "outputs": [],
   "source": [
    "sid = SentimentIntensityAnalyzer()\n",
    "token_data['score'] = token_data['review_content_low'].apply(lambda text: sid.polarity_scores(text))\n",
    "token_data['final_score']  = token_data['score'].apply(lambda score_dict: score_dict['compound'])"
   ]
  },
  {
   "cell_type": "code",
   "execution_count": 29,
   "metadata": {
    "id": "bQf6FYqS8VmT",
    "outputId": "1f47ed92-247e-466e-f400-cc808e158f40"
   },
   "outputs": [
    {
     "data": {
      "text/html": [
       "<div>\n",
       "<style scoped>\n",
       "    .dataframe tbody tr th:only-of-type {\n",
       "        vertical-align: middle;\n",
       "    }\n",
       "\n",
       "    .dataframe tbody tr th {\n",
       "        vertical-align: top;\n",
       "    }\n",
       "\n",
       "    .dataframe thead th {\n",
       "        text-align: right;\n",
       "    }\n",
       "</style>\n",
       "<table border=\"1\" class=\"dataframe\">\n",
       "  <thead>\n",
       "    <tr style=\"text-align: right;\">\n",
       "      <th></th>\n",
       "      <th>title</th>\n",
       "      <th>href</th>\n",
       "      <th>score</th>\n",
       "      <th>location</th>\n",
       "      <th>lat</th>\n",
       "      <th>lon</th>\n",
       "      <th>review_content</th>\n",
       "      <th>review_time</th>\n",
       "      <th>create_time</th>\n",
       "      <th>review_content_low</th>\n",
       "      <th>final_score</th>\n",
       "    </tr>\n",
       "  </thead>\n",
       "  <tbody>\n",
       "    <tr>\n",
       "      <th>1724</th>\n",
       "      <td>The Burgundy Apartments</td>\n",
       "      <td>https://www.google.com/maps/search/The+Burgund...</td>\n",
       "      <td>{'neg': 1.0, 'neu': 0.0, 'pos': 0.0, 'compound...</td>\n",
       "      <td>11911 Marsh Ln, Dallas, TX 75234, United States</td>\n",
       "      <td>-96.85833</td>\n",
       "      <td>32.911344</td>\n",
       "      <td>Hated it</td>\n",
       "      <td>get time error</td>\n",
       "      <td>2022-05-03 17:31:59</td>\n",
       "      <td>[hated]</td>\n",
       "      <td>-0.6369</td>\n",
       "    </tr>\n",
       "  </tbody>\n",
       "</table>\n",
       "</div>"
      ],
      "text/plain": [
       "                        title  \\\n",
       "1724  The Burgundy Apartments   \n",
       "\n",
       "                                                   href  \\\n",
       "1724  https://www.google.com/maps/search/The+Burgund...   \n",
       "\n",
       "                                                  score  \\\n",
       "1724  {'neg': 1.0, 'neu': 0.0, 'pos': 0.0, 'compound...   \n",
       "\n",
       "                                             location       lat        lon  \\\n",
       "1724  11911 Marsh Ln, Dallas, TX 75234, United States -96.85833  32.911344   \n",
       "\n",
       "     review_content     review_time          create_time review_content_low  \\\n",
       "1724       Hated it  get time error  2022-05-03 17:31:59            [hated]   \n",
       "\n",
       "      final_score  \n",
       "1724      -0.6369  "
      ]
     },
     "execution_count": 29,
     "metadata": {},
     "output_type": "execute_result"
    }
   ],
   "source": [
    "token_data[token_data['final_score'] == token_data['final_score'].min()]"
   ]
  },
  {
   "cell_type": "code",
   "execution_count": 30,
   "metadata": {
    "id": "yxSMjEsZ8VmT"
   },
   "outputs": [],
   "source": [
    "sanitize = token_data.review_content_low == 'nan'"
   ]
  },
  {
   "cell_type": "code",
   "execution_count": 31,
   "metadata": {
    "id": "xduMfRDr8VmU"
   },
   "outputs": [],
   "source": [
    "token_data = token_data[sanitize==False]"
   ]
  },
  {
   "cell_type": "code",
   "execution_count": 32,
   "metadata": {
    "id": "87oTyUmX8VmU",
    "outputId": "2c46d3a3-8056-4135-94e5-59cdf6c0d4cc",
    "scrolled": false
   },
   "outputs": [
    {
     "data": {
      "text/html": [
       "<div>\n",
       "<style scoped>\n",
       "    .dataframe tbody tr th:only-of-type {\n",
       "        vertical-align: middle;\n",
       "    }\n",
       "\n",
       "    .dataframe tbody tr th {\n",
       "        vertical-align: top;\n",
       "    }\n",
       "\n",
       "    .dataframe thead th {\n",
       "        text-align: right;\n",
       "    }\n",
       "</style>\n",
       "<table border=\"1\" class=\"dataframe\">\n",
       "  <thead>\n",
       "    <tr style=\"text-align: right;\">\n",
       "      <th></th>\n",
       "      <th>title</th>\n",
       "      <th>href</th>\n",
       "      <th>score</th>\n",
       "      <th>location</th>\n",
       "      <th>lat</th>\n",
       "      <th>lon</th>\n",
       "      <th>review_content</th>\n",
       "      <th>review_time</th>\n",
       "      <th>create_time</th>\n",
       "      <th>review_content_low</th>\n",
       "      <th>final_score</th>\n",
       "    </tr>\n",
       "  </thead>\n",
       "  <tbody>\n",
       "    <tr>\n",
       "      <th>0</th>\n",
       "      <td>Lakeside Lofts</td>\n",
       "      <td>https://www.google.com/maps/search/Lakeside+Lo...</td>\n",
       "      <td>{'neg': 0.0, 'neu': 1.0, 'pos': 0.0, 'compound...</td>\n",
       "      <td>11500 Lago Vista E, Farmers Branch, TX 75234, ...</td>\n",
       "      <td>-96.923746</td>\n",
       "      <td>32.901693</td>\n",
       "      <td>This will be my home for a long time thanks to...</td>\n",
       "      <td>get time error</td>\n",
       "      <td>2022-05-03 17:31:59</td>\n",
       "      <td>[home, long, time, thanks, community, area, po...</td>\n",
       "      <td>0.0</td>\n",
       "    </tr>\n",
       "    <tr>\n",
       "      <th>1</th>\n",
       "      <td>Lakeside Lofts</td>\n",
       "      <td>https://www.google.com/maps/search/Lakeside+Lo...</td>\n",
       "      <td>{'neg': 0.0, 'neu': 1.0, 'pos': 0.0, 'compound...</td>\n",
       "      <td>11500 Lago Vista E, Farmers Branch, TX 75234, ...</td>\n",
       "      <td>-96.923746</td>\n",
       "      <td>32.901693</td>\n",
       "      <td>Apartment hunting is stressful and you never r...</td>\n",
       "      <td>get time error</td>\n",
       "      <td>2022-05-03 17:31:59</td>\n",
       "      <td>[apartment, hunting, stressful, never, really,...</td>\n",
       "      <td>0.0</td>\n",
       "    </tr>\n",
       "    <tr>\n",
       "      <th>2</th>\n",
       "      <td>Lakeside Lofts</td>\n",
       "      <td>https://www.google.com/maps/search/Lakeside+Lo...</td>\n",
       "      <td>{'neg': 0.0, 'neu': 1.0, 'pos': 0.0, 'compound...</td>\n",
       "      <td>11500 Lago Vista E, Farmers Branch, TX 75234, ...</td>\n",
       "      <td>-96.923746</td>\n",
       "      <td>32.901693</td>\n",
       "      <td>I have lived at Lakeside Lofts for over a year...</td>\n",
       "      <td>get time error</td>\n",
       "      <td>2022-05-03 17:31:59</td>\n",
       "      <td>[lived, lakeside, lofts, over, year, &amp;, plan, ...</td>\n",
       "      <td>0.0</td>\n",
       "    </tr>\n",
       "    <tr>\n",
       "      <th>3</th>\n",
       "      <td>Lakeside Lofts</td>\n",
       "      <td>https://www.google.com/maps/search/Lakeside+Lo...</td>\n",
       "      <td>{'neg': 0.0, 'neu': 1.0, 'pos': 0.0, 'compound...</td>\n",
       "      <td>11500 Lago Vista E, Farmers Branch, TX 75234, ...</td>\n",
       "      <td>-96.923746</td>\n",
       "      <td>32.901693</td>\n",
       "      <td>I was a resident of this complex for 14 months...</td>\n",
       "      <td>get time error</td>\n",
       "      <td>2022-05-03 17:31:59</td>\n",
       "      <td>[resident, complex, months, first, moved, i, ....</td>\n",
       "      <td>0.0</td>\n",
       "    </tr>\n",
       "    <tr>\n",
       "      <th>4</th>\n",
       "      <td>Lakeside Lofts</td>\n",
       "      <td>https://www.google.com/maps/search/Lakeside+Lo...</td>\n",
       "      <td>{'neg': 0.0, 'neu': 1.0, 'pos': 0.0, 'compound...</td>\n",
       "      <td>11500 Lago Vista E, Farmers Branch, TX 75234, ...</td>\n",
       "      <td>-96.923746</td>\n",
       "      <td>32.901693</td>\n",
       "      <td>I really love and enjoy the views, the walk ar...</td>\n",
       "      <td>get time error</td>\n",
       "      <td>2022-05-03 17:31:59</td>\n",
       "      <td>[really, love, enjoy, views, ,, walk, around, ...</td>\n",
       "      <td>0.0</td>\n",
       "    </tr>\n",
       "  </tbody>\n",
       "</table>\n",
       "</div>"
      ],
      "text/plain": [
       "            title                                               href  \\\n",
       "0  Lakeside Lofts  https://www.google.com/maps/search/Lakeside+Lo...   \n",
       "1  Lakeside Lofts  https://www.google.com/maps/search/Lakeside+Lo...   \n",
       "2  Lakeside Lofts  https://www.google.com/maps/search/Lakeside+Lo...   \n",
       "3  Lakeside Lofts  https://www.google.com/maps/search/Lakeside+Lo...   \n",
       "4  Lakeside Lofts  https://www.google.com/maps/search/Lakeside+Lo...   \n",
       "\n",
       "                                               score  \\\n",
       "0  {'neg': 0.0, 'neu': 1.0, 'pos': 0.0, 'compound...   \n",
       "1  {'neg': 0.0, 'neu': 1.0, 'pos': 0.0, 'compound...   \n",
       "2  {'neg': 0.0, 'neu': 1.0, 'pos': 0.0, 'compound...   \n",
       "3  {'neg': 0.0, 'neu': 1.0, 'pos': 0.0, 'compound...   \n",
       "4  {'neg': 0.0, 'neu': 1.0, 'pos': 0.0, 'compound...   \n",
       "\n",
       "                                            location        lat        lon  \\\n",
       "0  11500 Lago Vista E, Farmers Branch, TX 75234, ... -96.923746  32.901693   \n",
       "1  11500 Lago Vista E, Farmers Branch, TX 75234, ... -96.923746  32.901693   \n",
       "2  11500 Lago Vista E, Farmers Branch, TX 75234, ... -96.923746  32.901693   \n",
       "3  11500 Lago Vista E, Farmers Branch, TX 75234, ... -96.923746  32.901693   \n",
       "4  11500 Lago Vista E, Farmers Branch, TX 75234, ... -96.923746  32.901693   \n",
       "\n",
       "                                      review_content     review_time  \\\n",
       "0  This will be my home for a long time thanks to...  get time error   \n",
       "1  Apartment hunting is stressful and you never r...  get time error   \n",
       "2  I have lived at Lakeside Lofts for over a year...  get time error   \n",
       "3  I was a resident of this complex for 14 months...  get time error   \n",
       "4  I really love and enjoy the views, the walk ar...  get time error   \n",
       "\n",
       "           create_time                                 review_content_low  \\\n",
       "0  2022-05-03 17:31:59  [home, long, time, thanks, community, area, po...   \n",
       "1  2022-05-03 17:31:59  [apartment, hunting, stressful, never, really,...   \n",
       "2  2022-05-03 17:31:59  [lived, lakeside, lofts, over, year, &, plan, ...   \n",
       "3  2022-05-03 17:31:59  [resident, complex, months, first, moved, i, ....   \n",
       "4  2022-05-03 17:31:59  [really, love, enjoy, views, ,, walk, around, ...   \n",
       "\n",
       "   final_score  \n",
       "0          0.0  \n",
       "1          0.0  \n",
       "2          0.0  \n",
       "3          0.0  \n",
       "4          0.0  "
      ]
     },
     "execution_count": 32,
     "metadata": {},
     "output_type": "execute_result"
    }
   ],
   "source": [
    "token_data.head()"
   ]
  },
  {
   "cell_type": "code",
   "execution_count": 33,
   "metadata": {
    "id": "7ShFHf3bwNmB",
    "outputId": "281a0f90-25b9-462e-b4fb-6aeedd03c79d"
   },
   "outputs": [
    {
     "name": "stderr",
     "output_type": "stream",
     "text": [
      "/opt/anaconda3/envs/mypytorch/lib/python3.8/site-packages/geopandas/geodataframe.py:1321: UserWarning: Geometry column does not contain geometry.\n",
      "  warnings.warn(\"Geometry column does not contain geometry.\")\n"
     ]
    },
    {
     "data": {
      "text/html": [
       "<div>\n",
       "<style scoped>\n",
       "    .dataframe tbody tr th:only-of-type {\n",
       "        vertical-align: middle;\n",
       "    }\n",
       "\n",
       "    .dataframe tbody tr th {\n",
       "        vertical-align: top;\n",
       "    }\n",
       "\n",
       "    .dataframe thead th {\n",
       "        text-align: right;\n",
       "    }\n",
       "</style>\n",
       "<table border=\"1\" class=\"dataframe\">\n",
       "  <thead>\n",
       "    <tr style=\"text-align: right;\">\n",
       "      <th></th>\n",
       "      <th>title</th>\n",
       "      <th>href</th>\n",
       "      <th>score</th>\n",
       "      <th>location</th>\n",
       "      <th>lat</th>\n",
       "      <th>lon</th>\n",
       "      <th>review_content</th>\n",
       "      <th>review_time</th>\n",
       "      <th>create_time</th>\n",
       "      <th>review_content_low</th>\n",
       "      <th>final_score</th>\n",
       "      <th>geometry</th>\n",
       "    </tr>\n",
       "  </thead>\n",
       "  <tbody>\n",
       "    <tr>\n",
       "      <th>0</th>\n",
       "      <td>Lakeside Lofts</td>\n",
       "      <td>https://www.google.com/maps/search/Lakeside+Lo...</td>\n",
       "      <td>{'neg': 0.0, 'neu': 1.0, 'pos': 0.0, 'compound...</td>\n",
       "      <td>11500 Lago Vista E, Farmers Branch, TX 75234, ...</td>\n",
       "      <td>-96.923746</td>\n",
       "      <td>32.901693</td>\n",
       "      <td>This will be my home for a long time thanks to...</td>\n",
       "      <td>get time error</td>\n",
       "      <td>2022-05-03 17:31:59</td>\n",
       "      <td>[home, long, time, thanks, community, area, po...</td>\n",
       "      <td>0.0</td>\n",
       "      <td>POINT (-96.92375 32.90169)</td>\n",
       "    </tr>\n",
       "    <tr>\n",
       "      <th>1</th>\n",
       "      <td>Lakeside Lofts</td>\n",
       "      <td>https://www.google.com/maps/search/Lakeside+Lo...</td>\n",
       "      <td>{'neg': 0.0, 'neu': 1.0, 'pos': 0.0, 'compound...</td>\n",
       "      <td>11500 Lago Vista E, Farmers Branch, TX 75234, ...</td>\n",
       "      <td>-96.923746</td>\n",
       "      <td>32.901693</td>\n",
       "      <td>Apartment hunting is stressful and you never r...</td>\n",
       "      <td>get time error</td>\n",
       "      <td>2022-05-03 17:31:59</td>\n",
       "      <td>[apartment, hunting, stressful, never, really,...</td>\n",
       "      <td>0.0</td>\n",
       "      <td>POINT (-96.92375 32.90169)</td>\n",
       "    </tr>\n",
       "    <tr>\n",
       "      <th>2</th>\n",
       "      <td>Lakeside Lofts</td>\n",
       "      <td>https://www.google.com/maps/search/Lakeside+Lo...</td>\n",
       "      <td>{'neg': 0.0, 'neu': 1.0, 'pos': 0.0, 'compound...</td>\n",
       "      <td>11500 Lago Vista E, Farmers Branch, TX 75234, ...</td>\n",
       "      <td>-96.923746</td>\n",
       "      <td>32.901693</td>\n",
       "      <td>I have lived at Lakeside Lofts for over a year...</td>\n",
       "      <td>get time error</td>\n",
       "      <td>2022-05-03 17:31:59</td>\n",
       "      <td>[lived, lakeside, lofts, over, year, &amp;, plan, ...</td>\n",
       "      <td>0.0</td>\n",
       "      <td>POINT (-96.92375 32.90169)</td>\n",
       "    </tr>\n",
       "    <tr>\n",
       "      <th>3</th>\n",
       "      <td>Lakeside Lofts</td>\n",
       "      <td>https://www.google.com/maps/search/Lakeside+Lo...</td>\n",
       "      <td>{'neg': 0.0, 'neu': 1.0, 'pos': 0.0, 'compound...</td>\n",
       "      <td>11500 Lago Vista E, Farmers Branch, TX 75234, ...</td>\n",
       "      <td>-96.923746</td>\n",
       "      <td>32.901693</td>\n",
       "      <td>I was a resident of this complex for 14 months...</td>\n",
       "      <td>get time error</td>\n",
       "      <td>2022-05-03 17:31:59</td>\n",
       "      <td>[resident, complex, months, first, moved, i, ....</td>\n",
       "      <td>0.0</td>\n",
       "      <td>POINT (-96.92375 32.90169)</td>\n",
       "    </tr>\n",
       "    <tr>\n",
       "      <th>4</th>\n",
       "      <td>Lakeside Lofts</td>\n",
       "      <td>https://www.google.com/maps/search/Lakeside+Lo...</td>\n",
       "      <td>{'neg': 0.0, 'neu': 1.0, 'pos': 0.0, 'compound...</td>\n",
       "      <td>11500 Lago Vista E, Farmers Branch, TX 75234, ...</td>\n",
       "      <td>-96.923746</td>\n",
       "      <td>32.901693</td>\n",
       "      <td>I really love and enjoy the views, the walk ar...</td>\n",
       "      <td>get time error</td>\n",
       "      <td>2022-05-03 17:31:59</td>\n",
       "      <td>[really, love, enjoy, views, ,, walk, around, ...</td>\n",
       "      <td>0.0</td>\n",
       "      <td>POINT (-96.92375 32.90169)</td>\n",
       "    </tr>\n",
       "  </tbody>\n",
       "</table>\n",
       "</div>"
      ],
      "text/plain": [
       "            title                                               href  \\\n",
       "0  Lakeside Lofts  https://www.google.com/maps/search/Lakeside+Lo...   \n",
       "1  Lakeside Lofts  https://www.google.com/maps/search/Lakeside+Lo...   \n",
       "2  Lakeside Lofts  https://www.google.com/maps/search/Lakeside+Lo...   \n",
       "3  Lakeside Lofts  https://www.google.com/maps/search/Lakeside+Lo...   \n",
       "4  Lakeside Lofts  https://www.google.com/maps/search/Lakeside+Lo...   \n",
       "\n",
       "                                               score  \\\n",
       "0  {'neg': 0.0, 'neu': 1.0, 'pos': 0.0, 'compound...   \n",
       "1  {'neg': 0.0, 'neu': 1.0, 'pos': 0.0, 'compound...   \n",
       "2  {'neg': 0.0, 'neu': 1.0, 'pos': 0.0, 'compound...   \n",
       "3  {'neg': 0.0, 'neu': 1.0, 'pos': 0.0, 'compound...   \n",
       "4  {'neg': 0.0, 'neu': 1.0, 'pos': 0.0, 'compound...   \n",
       "\n",
       "                                            location        lat        lon  \\\n",
       "0  11500 Lago Vista E, Farmers Branch, TX 75234, ... -96.923746  32.901693   \n",
       "1  11500 Lago Vista E, Farmers Branch, TX 75234, ... -96.923746  32.901693   \n",
       "2  11500 Lago Vista E, Farmers Branch, TX 75234, ... -96.923746  32.901693   \n",
       "3  11500 Lago Vista E, Farmers Branch, TX 75234, ... -96.923746  32.901693   \n",
       "4  11500 Lago Vista E, Farmers Branch, TX 75234, ... -96.923746  32.901693   \n",
       "\n",
       "                                      review_content     review_time  \\\n",
       "0  This will be my home for a long time thanks to...  get time error   \n",
       "1  Apartment hunting is stressful and you never r...  get time error   \n",
       "2  I have lived at Lakeside Lofts for over a year...  get time error   \n",
       "3  I was a resident of this complex for 14 months...  get time error   \n",
       "4  I really love and enjoy the views, the walk ar...  get time error   \n",
       "\n",
       "           create_time                                 review_content_low  \\\n",
       "0  2022-05-03 17:31:59  [home, long, time, thanks, community, area, po...   \n",
       "1  2022-05-03 17:31:59  [apartment, hunting, stressful, never, really,...   \n",
       "2  2022-05-03 17:31:59  [lived, lakeside, lofts, over, year, &, plan, ...   \n",
       "3  2022-05-03 17:31:59  [resident, complex, months, first, moved, i, ....   \n",
       "4  2022-05-03 17:31:59  [really, love, enjoy, views, ,, walk, around, ...   \n",
       "\n",
       "   final_score                    geometry  \n",
       "0          0.0  POINT (-96.92375 32.90169)  \n",
       "1          0.0  POINT (-96.92375 32.90169)  \n",
       "2          0.0  POINT (-96.92375 32.90169)  \n",
       "3          0.0  POINT (-96.92375 32.90169)  \n",
       "4          0.0  POINT (-96.92375 32.90169)  "
      ]
     },
     "execution_count": 33,
     "metadata": {},
     "output_type": "execute_result"
    }
   ],
   "source": [
    "token_data_plot = gpd.GeoDataFrame(token_data)\n",
    "token_data_plot[\"geometry\"]= gpd.GeoDataFrame(geometry=gpd.points_from_xy(token_data_plot[\"lat\"],token_data_plot[\"lon\"]))\n",
    "token_data_plot[\"geometry\"] = token_data_plot[\"geometry\"].apply(find_multi)\n",
    "token_data_plot.head()"
   ]
  },
  {
   "cell_type": "code",
   "execution_count": 34,
   "metadata": {
    "id": "_yVCRtV6wNmB",
    "outputId": "578c7174-10f6-4512-de62-37a652c3e553",
    "scrolled": true
   },
   "outputs": [
    {
     "name": "stderr",
     "output_type": "stream",
     "text": [
      "/opt/anaconda3/envs/mypytorch/lib/python3.8/site-packages/mapclassify/classifiers.py:238: UserWarning: Warning: Not enough unique values in array to form k classes\n",
      "  Warn(\n",
      "/opt/anaconda3/envs/mypytorch/lib/python3.8/site-packages/mapclassify/classifiers.py:241: UserWarning: Warning: setting k to 2\n",
      "  Warn(\"Warning: setting k to %d\" % k_q, UserWarning)\n"
     ]
    },
    {
     "data": {
      "text/plain": [
       "<AxesSubplot:>"
      ]
     },
     "execution_count": 34,
     "metadata": {},
     "output_type": "execute_result"
    },
    {
     "data": {
      "image/png": "[encoded data removed]",
      "text/plain": [
       "<Figure size 1440x720 with 1 Axes>"
      ]
     },
     "metadata": {
      "needs_background": "light"
     },
     "output_type": "display_data"
    }
   ],
   "source": [
    "token_data_plot.plot(column='final_score', legend=True, figsize=(20,10),k=10, scheme='Quantiles'\n",
    "           , legend_kwds={'loc': 'lower left'}, cmap='viridis_r')"
   ]
  },
  {
   "cell_type": "code",
   "execution_count": 35,
   "metadata": {
    "id": "pzJ6sguV8VmU"
   },
   "outputs": [
    {
     "data": {
      "text/html": [
       "<div>\n",
       "<style scoped>\n",
       "    .dataframe tbody tr th:only-of-type {\n",
       "        vertical-align: middle;\n",
       "    }\n",
       "\n",
       "    .dataframe tbody tr th {\n",
       "        vertical-align: top;\n",
       "    }\n",
       "\n",
       "    .dataframe thead th {\n",
       "        text-align: right;\n",
       "    }\n",
       "</style>\n",
       "<table border=\"1\" class=\"dataframe\">\n",
       "  <thead>\n",
       "    <tr style=\"text-align: right;\">\n",
       "      <th></th>\n",
       "      <th>title</th>\n",
       "      <th>href</th>\n",
       "      <th>score</th>\n",
       "      <th>location</th>\n",
       "      <th>lat</th>\n",
       "      <th>lon</th>\n",
       "      <th>review_content</th>\n",
       "      <th>review_time</th>\n",
       "      <th>create_time</th>\n",
       "      <th>review_content_low</th>\n",
       "      <th>final_score</th>\n",
       "      <th>geometry</th>\n",
       "    </tr>\n",
       "  </thead>\n",
       "  <tbody>\n",
       "    <tr>\n",
       "      <th>289</th>\n",
       "      <td>Magnolia at West Lemmon</td>\n",
       "      <td>https://www.google.com/maps/search/Magnolia+at...</td>\n",
       "      <td>{'neg': 0.0, 'neu': 0.0, 'pos': 1.0, 'compound...</td>\n",
       "      <td>3383 Cedarplaza Ln, Dallas, TX 75235, United S...</td>\n",
       "      <td>-96.822356</td>\n",
       "      <td>32.825763</td>\n",
       "      <td>Staff is the best!</td>\n",
       "      <td>get time error</td>\n",
       "      <td>2022-05-03 17:31:59</td>\n",
       "      <td>[best!]</td>\n",
       "      <td>0.6696</td>\n",
       "      <td>MULTIPOLYGON (((-96.83123 32.82581, -96.83057 ...</td>\n",
       "    </tr>\n",
       "    <tr>\n",
       "      <th>3957</th>\n",
       "      <td>Walker Place</td>\n",
       "      <td>https://www.google.com/maps/search/Walker+Plac...</td>\n",
       "      <td>{'neg': 0.0, 'neu': 0.0, 'pos': 1.0, 'compound...</td>\n",
       "      <td>3880 S Walton Walker Blvd, Dallas, TX 75236, U...</td>\n",
       "      <td>-96.894008</td>\n",
       "      <td>32.697430</td>\n",
       "      <td>Love!</td>\n",
       "      <td>get time error</td>\n",
       "      <td>2022-05-03 17:31:59</td>\n",
       "      <td>[love!]</td>\n",
       "      <td>0.6696</td>\n",
       "      <td>MULTIPOLYGON (((-96.90394 32.70585, -96.90376 ...</td>\n",
       "    </tr>\n",
       "  </tbody>\n",
       "</table>\n",
       "</div>"
      ],
      "text/plain": [
       "                        title  \\\n",
       "289   Magnolia at West Lemmon   \n",
       "3957             Walker Place   \n",
       "\n",
       "                                                   href  \\\n",
       "289   https://www.google.com/maps/search/Magnolia+at...   \n",
       "3957  https://www.google.com/maps/search/Walker+Plac...   \n",
       "\n",
       "                                                  score  \\\n",
       "289   {'neg': 0.0, 'neu': 0.0, 'pos': 1.0, 'compound...   \n",
       "3957  {'neg': 0.0, 'neu': 0.0, 'pos': 1.0, 'compound...   \n",
       "\n",
       "                                               location        lat        lon  \\\n",
       "289   3383 Cedarplaza Ln, Dallas, TX 75235, United S... -96.822356  32.825763   \n",
       "3957  3880 S Walton Walker Blvd, Dallas, TX 75236, U... -96.894008  32.697430   \n",
       "\n",
       "          review_content     review_time          create_time  \\\n",
       "289   Staff is the best!  get time error  2022-05-03 17:31:59   \n",
       "3957               Love!  get time error  2022-05-03 17:31:59   \n",
       "\n",
       "     review_content_low  final_score  \\\n",
       "289             [best!]       0.6696   \n",
       "3957            [love!]       0.6696   \n",
       "\n",
       "                                               geometry  \n",
       "289   MULTIPOLYGON (((-96.83123 32.82581, -96.83057 ...  \n",
       "3957  MULTIPOLYGON (((-96.90394 32.70585, -96.90376 ...  "
      ]
     },
     "execution_count": 35,
     "metadata": {},
     "output_type": "execute_result"
    }
   ],
   "source": [
    "token_data[token_data['final_score'] == token_data['final_score'].max()]"
   ]
  },
  {
   "cell_type": "code",
   "execution_count": 36,
   "metadata": {
    "id": "gIa_l4UA8VmU"
   },
   "outputs": [
    {
     "data": {
      "text/plain": [
       "(array([4.000e+00, 5.000e+00, 1.000e+00, 0.000e+00, 4.767e+03, 0.000e+00,\n",
       "        2.000e+00, 1.400e+01, 2.500e+01, 1.700e+01]),\n",
       " array([-0.6369 , -0.50625, -0.3756 , -0.24495, -0.1143 ,  0.01635,\n",
       "         0.147  ,  0.27765,  0.4083 ,  0.53895,  0.6696 ]),\n",
       " <BarContainer object of 10 artists>)"
      ]
     },
     "execution_count": 36,
     "metadata": {},
     "output_type": "execute_result"
    },
    {
     "data": {
      "image/png": "[encoded data removed]",
      "text/plain": [
       "<Figure size 432x288 with 1 Axes>"
      ]
     },
     "metadata": {
      "needs_background": "light"
     },
     "output_type": "display_data"
    }
   ],
   "source": [
    "import matplotlib.pyplot as plt\n",
    "token_data_x = token_data[['final_score']]\n",
    "plt.hist(token_data_x)"
   ]
  },
  {
   "cell_type": "code",
   "execution_count": 37,
   "metadata": {
    "id": "3j8CEMqK8VmU"
   },
   "outputs": [
    {
     "name": "stdout",
     "output_type": "stream",
     "text": [
      "lie\n"
     ]
    }
   ],
   "source": [
    "# trying different type of stemming to ctrate bag of words )\n",
    "stemmer = SnowballStemmer(\"english\")\n",
    "print(stemmer.stem('lies')) #just an example"
   ]
  },
  {
   "cell_type": "code",
   "execution_count": 38,
   "metadata": {
    "id": "w8i5wJR58VmU"
   },
   "outputs": [],
   "source": [
    "#this is to remove punctuation \n",
    "translator = str.maketrans(string.punctuation, ' ' * len(string.punctuation))"
   ]
  },
  {
   "cell_type": "code",
   "execution_count": 39,
   "metadata": {
    "id": "f8AY7KH88VmU"
   },
   "outputs": [
    {
     "data": {
      "text/plain": [
       "'!\"#$%&\\'()*+,-./:;<=>?@[\\\\]^_`{|}~'"
      ]
     },
     "execution_count": 39,
     "metadata": {},
     "output_type": "execute_result"
    }
   ],
   "source": [
    "string.punctuation"
   ]
  },
  {
   "cell_type": "code",
   "execution_count": 40,
   "metadata": {
    "id": "uvkMSgq18VmV"
   },
   "outputs": [
    {
     "data": {
      "text/html": [
       "<div>\n",
       "<style scoped>\n",
       "    .dataframe tbody tr th:only-of-type {\n",
       "        vertical-align: middle;\n",
       "    }\n",
       "\n",
       "    .dataframe tbody tr th {\n",
       "        vertical-align: top;\n",
       "    }\n",
       "\n",
       "    .dataframe thead th {\n",
       "        text-align: right;\n",
       "    }\n",
       "</style>\n",
       "<table border=\"1\" class=\"dataframe\">\n",
       "  <thead>\n",
       "    <tr style=\"text-align: right;\">\n",
       "      <th></th>\n",
       "      <th>title</th>\n",
       "      <th>href</th>\n",
       "      <th>score</th>\n",
       "      <th>location</th>\n",
       "      <th>lat</th>\n",
       "      <th>lon</th>\n",
       "      <th>review_content</th>\n",
       "      <th>review_time</th>\n",
       "      <th>create_time</th>\n",
       "      <th>review_content_low</th>\n",
       "      <th>final_score</th>\n",
       "      <th>geometry</th>\n",
       "    </tr>\n",
       "  </thead>\n",
       "  <tbody>\n",
       "    <tr>\n",
       "      <th>0</th>\n",
       "      <td>Lakeside Lofts</td>\n",
       "      <td>https://www.google.com/maps/search/Lakeside+Lo...</td>\n",
       "      <td>{'neg': 0.0, 'neu': 1.0, 'pos': 0.0, 'compound...</td>\n",
       "      <td>11500 Lago Vista E, Farmers Branch, TX 75234, ...</td>\n",
       "      <td>-96.923746</td>\n",
       "      <td>32.901693</td>\n",
       "      <td>This will be my home for a long time thanks to...</td>\n",
       "      <td>get time error</td>\n",
       "      <td>2022-05-03 17:31:59</td>\n",
       "      <td>[home, long, time, thanks, community, area, po...</td>\n",
       "      <td>0.0</td>\n",
       "      <td>POINT (-96.92375 32.90169)</td>\n",
       "    </tr>\n",
       "    <tr>\n",
       "      <th>1</th>\n",
       "      <td>Lakeside Lofts</td>\n",
       "      <td>https://www.google.com/maps/search/Lakeside+Lo...</td>\n",
       "      <td>{'neg': 0.0, 'neu': 1.0, 'pos': 0.0, 'compound...</td>\n",
       "      <td>11500 Lago Vista E, Farmers Branch, TX 75234, ...</td>\n",
       "      <td>-96.923746</td>\n",
       "      <td>32.901693</td>\n",
       "      <td>Apartment hunting is stressful and you never r...</td>\n",
       "      <td>get time error</td>\n",
       "      <td>2022-05-03 17:31:59</td>\n",
       "      <td>[apartment, hunting, stressful, never, really,...</td>\n",
       "      <td>0.0</td>\n",
       "      <td>POINT (-96.92375 32.90169)</td>\n",
       "    </tr>\n",
       "    <tr>\n",
       "      <th>2</th>\n",
       "      <td>Lakeside Lofts</td>\n",
       "      <td>https://www.google.com/maps/search/Lakeside+Lo...</td>\n",
       "      <td>{'neg': 0.0, 'neu': 1.0, 'pos': 0.0, 'compound...</td>\n",
       "      <td>11500 Lago Vista E, Farmers Branch, TX 75234, ...</td>\n",
       "      <td>-96.923746</td>\n",
       "      <td>32.901693</td>\n",
       "      <td>I have lived at Lakeside Lofts for over a year...</td>\n",
       "      <td>get time error</td>\n",
       "      <td>2022-05-03 17:31:59</td>\n",
       "      <td>[lived, lakeside, lofts, over, year, &amp;, plan, ...</td>\n",
       "      <td>0.0</td>\n",
       "      <td>POINT (-96.92375 32.90169)</td>\n",
       "    </tr>\n",
       "    <tr>\n",
       "      <th>3</th>\n",
       "      <td>Lakeside Lofts</td>\n",
       "      <td>https://www.google.com/maps/search/Lakeside+Lo...</td>\n",
       "      <td>{'neg': 0.0, 'neu': 1.0, 'pos': 0.0, 'compound...</td>\n",
       "      <td>11500 Lago Vista E, Farmers Branch, TX 75234, ...</td>\n",
       "      <td>-96.923746</td>\n",
       "      <td>32.901693</td>\n",
       "      <td>I was a resident of this complex for 14 months...</td>\n",
       "      <td>get time error</td>\n",
       "      <td>2022-05-03 17:31:59</td>\n",
       "      <td>[resident, complex, months, first, moved, i, ....</td>\n",
       "      <td>0.0</td>\n",
       "      <td>POINT (-96.92375 32.90169)</td>\n",
       "    </tr>\n",
       "    <tr>\n",
       "      <th>4</th>\n",
       "      <td>Lakeside Lofts</td>\n",
       "      <td>https://www.google.com/maps/search/Lakeside+Lo...</td>\n",
       "      <td>{'neg': 0.0, 'neu': 1.0, 'pos': 0.0, 'compound...</td>\n",
       "      <td>11500 Lago Vista E, Farmers Branch, TX 75234, ...</td>\n",
       "      <td>-96.923746</td>\n",
       "      <td>32.901693</td>\n",
       "      <td>I really love and enjoy the views, the walk ar...</td>\n",
       "      <td>get time error</td>\n",
       "      <td>2022-05-03 17:31:59</td>\n",
       "      <td>[really, love, enjoy, views, ,, walk, around, ...</td>\n",
       "      <td>0.0</td>\n",
       "      <td>POINT (-96.92375 32.90169)</td>\n",
       "    </tr>\n",
       "  </tbody>\n",
       "</table>\n",
       "</div>"
      ],
      "text/plain": [
       "            title                                               href  \\\n",
       "0  Lakeside Lofts  https://www.google.com/maps/search/Lakeside+Lo...   \n",
       "1  Lakeside Lofts  https://www.google.com/maps/search/Lakeside+Lo...   \n",
       "2  Lakeside Lofts  https://www.google.com/maps/search/Lakeside+Lo...   \n",
       "3  Lakeside Lofts  https://www.google.com/maps/search/Lakeside+Lo...   \n",
       "4  Lakeside Lofts  https://www.google.com/maps/search/Lakeside+Lo...   \n",
       "\n",
       "                                               score  \\\n",
       "0  {'neg': 0.0, 'neu': 1.0, 'pos': 0.0, 'compound...   \n",
       "1  {'neg': 0.0, 'neu': 1.0, 'pos': 0.0, 'compound...   \n",
       "2  {'neg': 0.0, 'neu': 1.0, 'pos': 0.0, 'compound...   \n",
       "3  {'neg': 0.0, 'neu': 1.0, 'pos': 0.0, 'compound...   \n",
       "4  {'neg': 0.0, 'neu': 1.0, 'pos': 0.0, 'compound...   \n",
       "\n",
       "                                            location        lat        lon  \\\n",
       "0  11500 Lago Vista E, Farmers Branch, TX 75234, ... -96.923746  32.901693   \n",
       "1  11500 Lago Vista E, Farmers Branch, TX 75234, ... -96.923746  32.901693   \n",
       "2  11500 Lago Vista E, Farmers Branch, TX 75234, ... -96.923746  32.901693   \n",
       "3  11500 Lago Vista E, Farmers Branch, TX 75234, ... -96.923746  32.901693   \n",
       "4  11500 Lago Vista E, Farmers Branch, TX 75234, ... -96.923746  32.901693   \n",
       "\n",
       "                                      review_content     review_time  \\\n",
       "0  This will be my home for a long time thanks to...  get time error   \n",
       "1  Apartment hunting is stressful and you never r...  get time error   \n",
       "2  I have lived at Lakeside Lofts for over a year...  get time error   \n",
       "3  I was a resident of this complex for 14 months...  get time error   \n",
       "4  I really love and enjoy the views, the walk ar...  get time error   \n",
       "\n",
       "           create_time                                 review_content_low  \\\n",
       "0  2022-05-03 17:31:59  [home, long, time, thanks, community, area, po...   \n",
       "1  2022-05-03 17:31:59  [apartment, hunting, stressful, never, really,...   \n",
       "2  2022-05-03 17:31:59  [lived, lakeside, lofts, over, year, &, plan, ...   \n",
       "3  2022-05-03 17:31:59  [resident, complex, months, first, moved, i, ....   \n",
       "4  2022-05-03 17:31:59  [really, love, enjoy, views, ,, walk, around, ...   \n",
       "\n",
       "   final_score                    geometry  \n",
       "0          0.0  POINT (-96.92375 32.90169)  \n",
       "1          0.0  POINT (-96.92375 32.90169)  \n",
       "2          0.0  POINT (-96.92375 32.90169)  \n",
       "3          0.0  POINT (-96.92375 32.90169)  \n",
       "4          0.0  POINT (-96.92375 32.90169)  "
      ]
     },
     "execution_count": 40,
     "metadata": {},
     "output_type": "execute_result"
    }
   ],
   "source": [
    "# ursing orininal datafeame here on not the one that was filtered for sentiment analysis)\n",
    "token_data.head()"
   ]
  },
  {
   "cell_type": "code",
   "execution_count": 41,
   "metadata": {
    "id": "hHo4MRzn8VmV"
   },
   "outputs": [],
   "source": [
    "# creating a list of reviews\n",
    "review_list = token_data['review_content'].values.tolist()"
   ]
  },
  {
   "cell_type": "code",
   "execution_count": 42,
   "metadata": {
    "id": "cpQs79ZE8VmV"
   },
   "outputs": [
    {
     "data": {
      "text/plain": [
       "'This will be my home for a long time thanks to the Community Area and the Pools! Even after a big TX Storm in the night the Maintenance crew cleaned next day and it was like it never happened.\\nGreat place to be in my Humble Opinion.'"
      ]
     },
     "execution_count": 42,
     "metadata": {},
     "output_type": "execute_result"
    }
   ],
   "source": [
    "#look at first review\n",
    "review_list[0]"
   ]
  },
  {
   "cell_type": "code",
   "execution_count": 43,
   "metadata": {
    "id": "gWdsN-lh8VmV"
   },
   "outputs": [
    {
     "data": {
      "text/plain": [
       "['This', 'will', 'be', 'my', 'home', 'for', 'a', 'long', 'time', 'thanks']"
      ]
     },
     "execution_count": 43,
     "metadata": {},
     "output_type": "execute_result"
    }
   ],
   "source": [
    "#We want to separate text into individual tokens (generally individual words). To do this, we will first write a function that takes a string and splits it up into individual words.\n",
    "review_list[0].split()[:10]"
   ]
  },
  {
   "cell_type": "code",
   "execution_count": 44,
   "metadata": {
    "id": "9lOi_aYj8VmV"
   },
   "outputs": [],
   "source": [
    "def tokenize(text):\n",
    "    translator = str.maketrans(string.punctuation, ' ' * len(string.punctuation))  # translator that replaces punctuation with empty spaces\n",
    "    return [stemmer.stem(i) for i in text.translate(translator).split()]  # stemmer and tokenizing into words"
   ]
  },
  {
   "cell_type": "code",
   "execution_count": 45,
   "metadata": {
    "id": "azUUtLeg8VmV"
   },
   "outputs": [
    {
     "data": {
      "text/plain": [
       "['this',\n",
       " 'will',\n",
       " 'be',\n",
       " 'my',\n",
       " 'home',\n",
       " 'for',\n",
       " 'a',\n",
       " 'long',\n",
       " 'time',\n",
       " 'thank',\n",
       " 'to',\n",
       " 'the',\n",
       " 'communiti',\n",
       " 'area',\n",
       " 'and',\n",
       " 'the',\n",
       " 'pool',\n",
       " 'even',\n",
       " 'after',\n",
       " 'a',\n",
       " 'big',\n",
       " 'tx',\n",
       " 'storm',\n",
       " 'in',\n",
       " 'the',\n",
       " 'night',\n",
       " 'the',\n",
       " 'mainten',\n",
       " 'crew',\n",
       " 'clean',\n",
       " 'next',\n",
       " 'day',\n",
       " 'and',\n",
       " 'it',\n",
       " 'was',\n",
       " 'like',\n",
       " 'it',\n",
       " 'never',\n",
       " 'happen',\n",
       " 'great',\n",
       " 'place',\n",
       " 'to',\n",
       " 'be',\n",
       " 'in',\n",
       " 'my',\n",
       " 'humbl',\n",
       " 'opinion']"
      ]
     },
     "execution_count": 45,
     "metadata": {},
     "output_type": "execute_result"
    }
   ],
   "source": [
    "tokenize(review_list[0])"
   ]
  },
  {
   "cell_type": "code",
   "execution_count": 46,
   "metadata": {
    "id": "sPkcLAWk8VmV"
   },
   "outputs": [
    {
     "name": "stderr",
     "output_type": "stream",
     "text": [
      "[nltk_data] Error loading stopwords: <urlopen error [Errno 61]\n",
      "[nltk_data]     Connection refused>\n"
     ]
    },
    {
     "data": {
      "text/plain": [
       "False"
      ]
     },
     "execution_count": 46,
     "metadata": {},
     "output_type": "execute_result"
    }
   ],
   "source": [
    "# We download stopwords\n",
    "from nltk.corpus import stopwords\n",
    "nltk.download('stopwords')"
   ]
  },
  {
   "cell_type": "code",
   "execution_count": 47,
   "metadata": {
    "id": "31j14LI88VmV"
   },
   "outputs": [],
   "source": [
    "# Set the correct stop words\n",
    "stop_words = set(stopwords.words('english'))"
   ]
  },
  {
   "cell_type": "code",
   "execution_count": 48,
   "metadata": {
    "id": "RqqnMmvr8VmV"
   },
   "outputs": [],
   "source": [
    "# Tokenize stop words to match \n",
    "stop_words = [tokenize(s)[0] for s in stop_words]"
   ]
  },
  {
   "cell_type": "code",
   "execution_count": 49,
   "metadata": {
    "id": "p9JXaO1M8VmW"
   },
   "outputs": [
    {
     "name": "stderr",
     "output_type": "stream",
     "text": [
      "/opt/anaconda3/envs/mypytorch/lib/python3.8/site-packages/sklearn/utils/deprecation.py:87: FutureWarning: Function get_feature_names is deprecated; get_feature_names is deprecated in 1.0 and will be removed in 1.2. Please use get_feature_names_out instead.\n",
      "  warnings.warn(msg, category=FutureWarning)\n"
     ]
    },
    {
     "name": "stdout",
     "output_type": "stream",
     "text": [
      "0 manag, properti, park, new, resid\n",
      "1 great, help, good, apart, communiti\n",
      "2 offic, alway, staff, complex, mainten\n",
      "3 live, place, year, love, one\n",
      "4 move, apart, experi, get, day\n"
     ]
    }
   ],
   "source": [
    "# Create Vectorizer\n",
    "vectorizer = CountVectorizer(analyzer=\"word\",           # unit of features are single words rather than characters\n",
    "                            tokenizer=tokenize,         # function to create tokens\n",
    "                            ngram_range=(0,1),          # unigrams - single words\n",
    "                            strip_accents='unicode',    # remove accent characters\n",
    "                            stop_words = stop_words,    # remove stopwords\n",
    "                            min_df = 0.05,              # only include words with minimum frequency of 0.05\n",
    "                            max_df = 0.95)              # only include words with maximum frequency of 0.95\n",
    "\n",
    "# Creating bag of words\n",
    "bag_of_words = vectorizer.fit_transform(review_list) # transform our corpus as a bag of words\n",
    "features = vectorizer.get_feature_names()               # get features (words)\n",
    "\n",
    "# Fitting LDA model\n",
    "# Here we change number of topics to 5 topics\n",
    "# n_components = 5\n",
    "\n",
    "lda = LatentDirichletAllocation(n_components = 5, learning_method='online')\n",
    "doctopic = lda.fit_transform(bag_of_words)\n",
    "\n",
    "# Displaying the top keywords in each topic\n",
    "ls_keywords = []\n",
    "for i,topic in enumerate(lda.components_):\n",
    "    word_idx = np.argsort(topic)[::-1][:5]\n",
    "    keywords = ', '.join(features[i] for i in word_idx)\n",
    "    ls_keywords.append(keywords)\n",
    "    print(i, keywords)"
   ]
  },
  {
   "cell_type": "code",
   "execution_count": 50,
   "metadata": {
    "id": "tIGeLWsl8VmW"
   },
   "outputs": [],
   "source": [
    "bag_of_words_df = pd.DataFrame(bag_of_words.todense(), columns=features)"
   ]
  },
  {
   "cell_type": "code",
   "execution_count": 51,
   "metadata": {
    "id": "1B0p9W8j8VmW"
   },
   "outputs": [
    {
     "data": {
      "text/html": [
       "<div>\n",
       "<style scoped>\n",
       "    .dataframe tbody tr th:only-of-type {\n",
       "        vertical-align: middle;\n",
       "    }\n",
       "\n",
       "    .dataframe tbody tr th {\n",
       "        vertical-align: top;\n",
       "    }\n",
       "\n",
       "    .dataframe thead th {\n",
       "        text-align: right;\n",
       "    }\n",
       "</style>\n",
       "<table border=\"1\" class=\"dataframe\">\n",
       "  <thead>\n",
       "    <tr style=\"text-align: right;\">\n",
       "      <th></th>\n",
       "      <th>alway</th>\n",
       "      <th>amaz</th>\n",
       "      <th>apart</th>\n",
       "      <th>call</th>\n",
       "      <th>care</th>\n",
       "      <th>clean</th>\n",
       "      <th>communiti</th>\n",
       "      <th>complex</th>\n",
       "      <th>day</th>\n",
       "      <th>even</th>\n",
       "      <th>...</th>\n",
       "      <th>recommend</th>\n",
       "      <th>resid</th>\n",
       "      <th>say</th>\n",
       "      <th>staff</th>\n",
       "      <th>thing</th>\n",
       "      <th>time</th>\n",
       "      <th>well</th>\n",
       "      <th>work</th>\n",
       "      <th>would</th>\n",
       "      <th>year</th>\n",
       "    </tr>\n",
       "  </thead>\n",
       "  <tbody>\n",
       "    <tr>\n",
       "      <th>0</th>\n",
       "      <td>0</td>\n",
       "      <td>0</td>\n",
       "      <td>0</td>\n",
       "      <td>0</td>\n",
       "      <td>0</td>\n",
       "      <td>1</td>\n",
       "      <td>1</td>\n",
       "      <td>0</td>\n",
       "      <td>1</td>\n",
       "      <td>1</td>\n",
       "      <td>...</td>\n",
       "      <td>0</td>\n",
       "      <td>0</td>\n",
       "      <td>0</td>\n",
       "      <td>0</td>\n",
       "      <td>0</td>\n",
       "      <td>1</td>\n",
       "      <td>0</td>\n",
       "      <td>0</td>\n",
       "      <td>0</td>\n",
       "      <td>0</td>\n",
       "    </tr>\n",
       "    <tr>\n",
       "      <th>1</th>\n",
       "      <td>0</td>\n",
       "      <td>0</td>\n",
       "      <td>2</td>\n",
       "      <td>0</td>\n",
       "      <td>0</td>\n",
       "      <td>0</td>\n",
       "      <td>0</td>\n",
       "      <td>0</td>\n",
       "      <td>0</td>\n",
       "      <td>0</td>\n",
       "      <td>...</td>\n",
       "      <td>0</td>\n",
       "      <td>0</td>\n",
       "      <td>0</td>\n",
       "      <td>0</td>\n",
       "      <td>0</td>\n",
       "      <td>0</td>\n",
       "      <td>0</td>\n",
       "      <td>0</td>\n",
       "      <td>0</td>\n",
       "      <td>0</td>\n",
       "    </tr>\n",
       "    <tr>\n",
       "      <th>2</th>\n",
       "      <td>1</td>\n",
       "      <td>1</td>\n",
       "      <td>0</td>\n",
       "      <td>0</td>\n",
       "      <td>1</td>\n",
       "      <td>0</td>\n",
       "      <td>0</td>\n",
       "      <td>0</td>\n",
       "      <td>0</td>\n",
       "      <td>0</td>\n",
       "      <td>...</td>\n",
       "      <td>0</td>\n",
       "      <td>0</td>\n",
       "      <td>0</td>\n",
       "      <td>1</td>\n",
       "      <td>0</td>\n",
       "      <td>1</td>\n",
       "      <td>0</td>\n",
       "      <td>0</td>\n",
       "      <td>0</td>\n",
       "      <td>1</td>\n",
       "    </tr>\n",
       "    <tr>\n",
       "      <th>3</th>\n",
       "      <td>1</td>\n",
       "      <td>0</td>\n",
       "      <td>0</td>\n",
       "      <td>0</td>\n",
       "      <td>0</td>\n",
       "      <td>1</td>\n",
       "      <td>0</td>\n",
       "      <td>1</td>\n",
       "      <td>0</td>\n",
       "      <td>0</td>\n",
       "      <td>...</td>\n",
       "      <td>0</td>\n",
       "      <td>1</td>\n",
       "      <td>0</td>\n",
       "      <td>0</td>\n",
       "      <td>0</td>\n",
       "      <td>1</td>\n",
       "      <td>0</td>\n",
       "      <td>0</td>\n",
       "      <td>0</td>\n",
       "      <td>0</td>\n",
       "    </tr>\n",
       "    <tr>\n",
       "      <th>4</th>\n",
       "      <td>1</td>\n",
       "      <td>0</td>\n",
       "      <td>0</td>\n",
       "      <td>0</td>\n",
       "      <td>0</td>\n",
       "      <td>0</td>\n",
       "      <td>0</td>\n",
       "      <td>0</td>\n",
       "      <td>0</td>\n",
       "      <td>0</td>\n",
       "      <td>...</td>\n",
       "      <td>0</td>\n",
       "      <td>0</td>\n",
       "      <td>0</td>\n",
       "      <td>0</td>\n",
       "      <td>0</td>\n",
       "      <td>0</td>\n",
       "      <td>1</td>\n",
       "      <td>0</td>\n",
       "      <td>0</td>\n",
       "      <td>2</td>\n",
       "    </tr>\n",
       "    <tr>\n",
       "      <th>...</th>\n",
       "      <td>...</td>\n",
       "      <td>...</td>\n",
       "      <td>...</td>\n",
       "      <td>...</td>\n",
       "      <td>...</td>\n",
       "      <td>...</td>\n",
       "      <td>...</td>\n",
       "      <td>...</td>\n",
       "      <td>...</td>\n",
       "      <td>...</td>\n",
       "      <td>...</td>\n",
       "      <td>...</td>\n",
       "      <td>...</td>\n",
       "      <td>...</td>\n",
       "      <td>...</td>\n",
       "      <td>...</td>\n",
       "      <td>...</td>\n",
       "      <td>...</td>\n",
       "      <td>...</td>\n",
       "      <td>...</td>\n",
       "      <td>...</td>\n",
       "    </tr>\n",
       "    <tr>\n",
       "      <th>4830</th>\n",
       "      <td>0</td>\n",
       "      <td>1</td>\n",
       "      <td>0</td>\n",
       "      <td>2</td>\n",
       "      <td>0</td>\n",
       "      <td>0</td>\n",
       "      <td>0</td>\n",
       "      <td>0</td>\n",
       "      <td>0</td>\n",
       "      <td>0</td>\n",
       "      <td>...</td>\n",
       "      <td>0</td>\n",
       "      <td>0</td>\n",
       "      <td>0</td>\n",
       "      <td>0</td>\n",
       "      <td>0</td>\n",
       "      <td>0</td>\n",
       "      <td>0</td>\n",
       "      <td>1</td>\n",
       "      <td>0</td>\n",
       "      <td>0</td>\n",
       "    </tr>\n",
       "    <tr>\n",
       "      <th>4831</th>\n",
       "      <td>0</td>\n",
       "      <td>1</td>\n",
       "      <td>1</td>\n",
       "      <td>0</td>\n",
       "      <td>0</td>\n",
       "      <td>0</td>\n",
       "      <td>0</td>\n",
       "      <td>0</td>\n",
       "      <td>0</td>\n",
       "      <td>0</td>\n",
       "      <td>...</td>\n",
       "      <td>0</td>\n",
       "      <td>0</td>\n",
       "      <td>0</td>\n",
       "      <td>1</td>\n",
       "      <td>0</td>\n",
       "      <td>0</td>\n",
       "      <td>0</td>\n",
       "      <td>1</td>\n",
       "      <td>0</td>\n",
       "      <td>0</td>\n",
       "    </tr>\n",
       "    <tr>\n",
       "      <th>4832</th>\n",
       "      <td>0</td>\n",
       "      <td>0</td>\n",
       "      <td>1</td>\n",
       "      <td>0</td>\n",
       "      <td>0</td>\n",
       "      <td>0</td>\n",
       "      <td>0</td>\n",
       "      <td>0</td>\n",
       "      <td>0</td>\n",
       "      <td>0</td>\n",
       "      <td>...</td>\n",
       "      <td>0</td>\n",
       "      <td>0</td>\n",
       "      <td>0</td>\n",
       "      <td>0</td>\n",
       "      <td>0</td>\n",
       "      <td>0</td>\n",
       "      <td>0</td>\n",
       "      <td>0</td>\n",
       "      <td>0</td>\n",
       "      <td>0</td>\n",
       "    </tr>\n",
       "    <tr>\n",
       "      <th>4833</th>\n",
       "      <td>0</td>\n",
       "      <td>0</td>\n",
       "      <td>0</td>\n",
       "      <td>0</td>\n",
       "      <td>1</td>\n",
       "      <td>0</td>\n",
       "      <td>0</td>\n",
       "      <td>0</td>\n",
       "      <td>0</td>\n",
       "      <td>0</td>\n",
       "      <td>...</td>\n",
       "      <td>0</td>\n",
       "      <td>0</td>\n",
       "      <td>0</td>\n",
       "      <td>0</td>\n",
       "      <td>0</td>\n",
       "      <td>0</td>\n",
       "      <td>0</td>\n",
       "      <td>0</td>\n",
       "      <td>0</td>\n",
       "      <td>0</td>\n",
       "    </tr>\n",
       "    <tr>\n",
       "      <th>4834</th>\n",
       "      <td>0</td>\n",
       "      <td>0</td>\n",
       "      <td>1</td>\n",
       "      <td>0</td>\n",
       "      <td>0</td>\n",
       "      <td>0</td>\n",
       "      <td>0</td>\n",
       "      <td>0</td>\n",
       "      <td>0</td>\n",
       "      <td>0</td>\n",
       "      <td>...</td>\n",
       "      <td>0</td>\n",
       "      <td>1</td>\n",
       "      <td>0</td>\n",
       "      <td>0</td>\n",
       "      <td>0</td>\n",
       "      <td>0</td>\n",
       "      <td>0</td>\n",
       "      <td>0</td>\n",
       "      <td>0</td>\n",
       "      <td>0</td>\n",
       "    </tr>\n",
       "  </tbody>\n",
       "</table>\n",
       "<p>4835 rows × 51 columns</p>\n",
       "</div>"
      ],
      "text/plain": [
       "      alway  amaz  apart  call  care  clean  communiti  complex  day  even  \\\n",
       "0         0     0      0     0     0      1          1        0    1     1   \n",
       "1         0     0      2     0     0      0          0        0    0     0   \n",
       "2         1     1      0     0     1      0          0        0    0     0   \n",
       "3         1     0      0     0     0      1          0        1    0     0   \n",
       "4         1     0      0     0     0      0          0        0    0     0   \n",
       "...     ...   ...    ...   ...   ...    ...        ...      ...  ...   ...   \n",
       "4830      0     1      0     2     0      0          0        0    0     0   \n",
       "4831      0     1      1     0     0      0          0        0    0     0   \n",
       "4832      0     0      1     0     0      0          0        0    0     0   \n",
       "4833      0     0      0     0     1      0          0        0    0     0   \n",
       "4834      0     0      1     0     0      0          0        0    0     0   \n",
       "\n",
       "      ...  recommend  resid  say  staff  thing  time  well  work  would  year  \n",
       "0     ...          0      0    0      0      0     1     0     0      0     0  \n",
       "1     ...          0      0    0      0      0     0     0     0      0     0  \n",
       "2     ...          0      0    0      1      0     1     0     0      0     1  \n",
       "3     ...          0      1    0      0      0     1     0     0      0     0  \n",
       "4     ...          0      0    0      0      0     0     1     0      0     2  \n",
       "...   ...        ...    ...  ...    ...    ...   ...   ...   ...    ...   ...  \n",
       "4830  ...          0      0    0      0      0     0     0     1      0     0  \n",
       "4831  ...          0      0    0      1      0     0     0     1      0     0  \n",
       "4832  ...          0      0    0      0      0     0     0     0      0     0  \n",
       "4833  ...          0      0    0      0      0     0     0     0      0     0  \n",
       "4834  ...          0      1    0      0      0     0     0     0      0     0  \n",
       "\n",
       "[4835 rows x 51 columns]"
      ]
     },
     "execution_count": 51,
     "metadata": {},
     "output_type": "execute_result"
    }
   ],
   "source": [
    "bag_of_words_df"
   ]
  },
  {
   "cell_type": "code",
   "execution_count": 52,
   "metadata": {
    "id": "PnKhZSQM8VmW"
   },
   "outputs": [
    {
     "name": "stdout",
     "output_type": "stream",
     "text": [
      "0 manag, properti, park, new, resid, care, get, issu, work, year\n",
      "1 great, help, good, apart, communiti, staff, love, locat, nice, move\n",
      "2 offic, alway, staff, complex, mainten, friend, apart, leas, call, live\n",
      "3 live, place, year, love, one, recommend, look, nice, like, clean\n",
      "4 move, apart, experi, get, day, say, month, first, like, work\n"
     ]
    }
   ],
   "source": [
    "#viewing top 10 words in 10 topics\n",
    "ls_keywords = []\n",
    "for i,topic in enumerate(lda.components_):  # lda.components_ represent topics\n",
    "    word_idx = np.argsort(topic)[::-1][:10]\n",
    "    keywords = ', '.join(features[i] for i in word_idx)\n",
    "    ls_keywords.append(keywords)\n",
    "    print(i, keywords)"
   ]
  },
  {
   "cell_type": "code",
   "execution_count": 53,
   "metadata": {
    "id": "YlzYiYRm8VmW"
   },
   "outputs": [
    {
     "data": {
      "text/html": [
       "<div>\n",
       "<style scoped>\n",
       "    .dataframe tbody tr th:only-of-type {\n",
       "        vertical-align: middle;\n",
       "    }\n",
       "\n",
       "    .dataframe tbody tr th {\n",
       "        vertical-align: top;\n",
       "    }\n",
       "\n",
       "    .dataframe thead th {\n",
       "        text-align: right;\n",
       "    }\n",
       "</style>\n",
       "<table border=\"1\" class=\"dataframe\">\n",
       "  <thead>\n",
       "    <tr style=\"text-align: right;\">\n",
       "      <th></th>\n",
       "      <th>manag, properti, park, new, resid, care, get, issu, work, year</th>\n",
       "      <th>great, help, good, apart, communiti, staff, love, locat, nice, move</th>\n",
       "      <th>offic, alway, staff, complex, mainten, friend, apart, leas, call, live</th>\n",
       "      <th>live, place, year, love, one, recommend, look, nice, like, clean</th>\n",
       "      <th>move, apart, experi, get, day, say, month, first, like, work</th>\n",
       "    </tr>\n",
       "  </thead>\n",
       "  <tbody>\n",
       "    <tr>\n",
       "      <th>0</th>\n",
       "      <td>0.018276</td>\n",
       "      <td>0.220398</td>\n",
       "      <td>0.163054</td>\n",
       "      <td>0.190386</td>\n",
       "      <td>0.407887</td>\n",
       "    </tr>\n",
       "    <tr>\n",
       "      <th>1</th>\n",
       "      <td>0.022311</td>\n",
       "      <td>0.022405</td>\n",
       "      <td>0.022355</td>\n",
       "      <td>0.022471</td>\n",
       "      <td>0.910458</td>\n",
       "    </tr>\n",
       "    <tr>\n",
       "      <th>2</th>\n",
       "      <td>0.180190</td>\n",
       "      <td>0.017301</td>\n",
       "      <td>0.570540</td>\n",
       "      <td>0.215204</td>\n",
       "      <td>0.016765</td>\n",
       "    </tr>\n",
       "    <tr>\n",
       "      <th>3</th>\n",
       "      <td>0.015944</td>\n",
       "      <td>0.015534</td>\n",
       "      <td>0.461646</td>\n",
       "      <td>0.016026</td>\n",
       "      <td>0.490849</td>\n",
       "    </tr>\n",
       "    <tr>\n",
       "      <th>4</th>\n",
       "      <td>0.020105</td>\n",
       "      <td>0.020650</td>\n",
       "      <td>0.625000</td>\n",
       "      <td>0.314067</td>\n",
       "      <td>0.020177</td>\n",
       "    </tr>\n",
       "    <tr>\n",
       "      <th>...</th>\n",
       "      <td>...</td>\n",
       "      <td>...</td>\n",
       "      <td>...</td>\n",
       "      <td>...</td>\n",
       "      <td>...</td>\n",
       "    </tr>\n",
       "    <tr>\n",
       "      <th>4830</th>\n",
       "      <td>0.028839</td>\n",
       "      <td>0.029511</td>\n",
       "      <td>0.883630</td>\n",
       "      <td>0.029103</td>\n",
       "      <td>0.028917</td>\n",
       "    </tr>\n",
       "    <tr>\n",
       "      <th>4831</th>\n",
       "      <td>0.269038</td>\n",
       "      <td>0.018608</td>\n",
       "      <td>0.675152</td>\n",
       "      <td>0.018322</td>\n",
       "      <td>0.018879</td>\n",
       "    </tr>\n",
       "    <tr>\n",
       "      <th>4832</th>\n",
       "      <td>0.506210</td>\n",
       "      <td>0.033708</td>\n",
       "      <td>0.033856</td>\n",
       "      <td>0.191670</td>\n",
       "      <td>0.234555</td>\n",
       "    </tr>\n",
       "    <tr>\n",
       "      <th>4833</th>\n",
       "      <td>0.897680</td>\n",
       "      <td>0.025642</td>\n",
       "      <td>0.025072</td>\n",
       "      <td>0.025648</td>\n",
       "      <td>0.025957</td>\n",
       "    </tr>\n",
       "    <tr>\n",
       "      <th>4834</th>\n",
       "      <td>0.555351</td>\n",
       "      <td>0.368405</td>\n",
       "      <td>0.025425</td>\n",
       "      <td>0.025067</td>\n",
       "      <td>0.025752</td>\n",
       "    </tr>\n",
       "  </tbody>\n",
       "</table>\n",
       "<p>4835 rows × 5 columns</p>\n",
       "</div>"
      ],
      "text/plain": [
       "      manag, properti, park, new, resid, care, get, issu, work, year  \\\n",
       "0                                              0.018276                \n",
       "1                                              0.022311                \n",
       "2                                              0.180190                \n",
       "3                                              0.015944                \n",
       "4                                              0.020105                \n",
       "...                                                 ...                \n",
       "4830                                           0.028839                \n",
       "4831                                           0.269038                \n",
       "4832                                           0.506210                \n",
       "4833                                           0.897680                \n",
       "4834                                           0.555351                \n",
       "\n",
       "      great, help, good, apart, communiti, staff, love, locat, nice, move  \\\n",
       "0                                              0.220398                     \n",
       "1                                              0.022405                     \n",
       "2                                              0.017301                     \n",
       "3                                              0.015534                     \n",
       "4                                              0.020650                     \n",
       "...                                                 ...                     \n",
       "4830                                           0.029511                     \n",
       "4831                                           0.018608                     \n",
       "4832                                           0.033708                     \n",
       "4833                                           0.025642                     \n",
       "4834                                           0.368405                     \n",
       "\n",
       "      offic, alway, staff, complex, mainten, friend, apart, leas, call, live  \\\n",
       "0                                              0.163054                        \n",
       "1                                              0.022355                        \n",
       "2                                              0.570540                        \n",
       "3                                              0.461646                        \n",
       "4                                              0.625000                        \n",
       "...                                                 ...                        \n",
       "4830                                           0.883630                        \n",
       "4831                                           0.675152                        \n",
       "4832                                           0.033856                        \n",
       "4833                                           0.025072                        \n",
       "4834                                           0.025425                        \n",
       "\n",
       "      live, place, year, love, one, recommend, look, nice, like, clean  \\\n",
       "0                                              0.190386                  \n",
       "1                                              0.022471                  \n",
       "2                                              0.215204                  \n",
       "3                                              0.016026                  \n",
       "4                                              0.314067                  \n",
       "...                                                 ...                  \n",
       "4830                                           0.029103                  \n",
       "4831                                           0.018322                  \n",
       "4832                                           0.191670                  \n",
       "4833                                           0.025648                  \n",
       "4834                                           0.025067                  \n",
       "\n",
       "      move, apart, experi, get, day, say, month, first, like, work  \n",
       "0                                              0.407887             \n",
       "1                                              0.910458             \n",
       "2                                              0.016765             \n",
       "3                                              0.490849             \n",
       "4                                              0.020177             \n",
       "...                                                 ...             \n",
       "4830                                           0.028917             \n",
       "4831                                           0.018879             \n",
       "4832                                           0.234555             \n",
       "4833                                           0.025957             \n",
       "4834                                           0.025752             \n",
       "\n",
       "[4835 rows x 5 columns]"
      ]
     },
     "execution_count": 53,
     "metadata": {},
     "output_type": "execute_result"
    }
   ],
   "source": [
    "# A score is assigned to each of the topic (the higher the score, the more likely the abstract belongs to that topic)\n",
    "pd.DataFrame(doctopic, columns = ls_keywords)"
   ]
  },
  {
   "cell_type": "code",
   "execution_count": 54,
   "metadata": {
    "id": "J5X907Zx8VmW"
   },
   "outputs": [],
   "source": [
    "topics_reviews = pd.DataFrame(doctopic, columns = ls_keywords)"
   ]
  },
  {
   "cell_type": "code",
   "execution_count": 55,
   "metadata": {
    "id": "OEqglvsM8VmW"
   },
   "outputs": [
    {
     "data": {
      "text/html": [
       "<div>\n",
       "<style scoped>\n",
       "    .dataframe tbody tr th:only-of-type {\n",
       "        vertical-align: middle;\n",
       "    }\n",
       "\n",
       "    .dataframe tbody tr th {\n",
       "        vertical-align: top;\n",
       "    }\n",
       "\n",
       "    .dataframe thead th {\n",
       "        text-align: right;\n",
       "    }\n",
       "</style>\n",
       "<table border=\"1\" class=\"dataframe\">\n",
       "  <thead>\n",
       "    <tr style=\"text-align: right;\">\n",
       "      <th></th>\n",
       "      <th>manag, properti, park, new, resid, care, get, issu, work, year</th>\n",
       "      <th>great, help, good, apart, communiti, staff, love, locat, nice, move</th>\n",
       "      <th>offic, alway, staff, complex, mainten, friend, apart, leas, call, live</th>\n",
       "      <th>live, place, year, love, one, recommend, look, nice, like, clean</th>\n",
       "      <th>move, apart, experi, get, day, say, month, first, like, work</th>\n",
       "    </tr>\n",
       "  </thead>\n",
       "  <tbody>\n",
       "    <tr>\n",
       "      <th>0</th>\n",
       "      <td>0.018276</td>\n",
       "      <td>0.220398</td>\n",
       "      <td>0.163054</td>\n",
       "      <td>0.190386</td>\n",
       "      <td>0.407887</td>\n",
       "    </tr>\n",
       "    <tr>\n",
       "      <th>1</th>\n",
       "      <td>0.022311</td>\n",
       "      <td>0.022405</td>\n",
       "      <td>0.022355</td>\n",
       "      <td>0.022471</td>\n",
       "      <td>0.910458</td>\n",
       "    </tr>\n",
       "    <tr>\n",
       "      <th>2</th>\n",
       "      <td>0.180190</td>\n",
       "      <td>0.017301</td>\n",
       "      <td>0.570540</td>\n",
       "      <td>0.215204</td>\n",
       "      <td>0.016765</td>\n",
       "    </tr>\n",
       "    <tr>\n",
       "      <th>3</th>\n",
       "      <td>0.015944</td>\n",
       "      <td>0.015534</td>\n",
       "      <td>0.461646</td>\n",
       "      <td>0.016026</td>\n",
       "      <td>0.490849</td>\n",
       "    </tr>\n",
       "    <tr>\n",
       "      <th>4</th>\n",
       "      <td>0.020105</td>\n",
       "      <td>0.020650</td>\n",
       "      <td>0.625000</td>\n",
       "      <td>0.314067</td>\n",
       "      <td>0.020177</td>\n",
       "    </tr>\n",
       "  </tbody>\n",
       "</table>\n",
       "</div>"
      ],
      "text/plain": [
       "   manag, properti, park, new, resid, care, get, issu, work, year  \\\n",
       "0                                           0.018276                \n",
       "1                                           0.022311                \n",
       "2                                           0.180190                \n",
       "3                                           0.015944                \n",
       "4                                           0.020105                \n",
       "\n",
       "   great, help, good, apart, communiti, staff, love, locat, nice, move  \\\n",
       "0                                           0.220398                     \n",
       "1                                           0.022405                     \n",
       "2                                           0.017301                     \n",
       "3                                           0.015534                     \n",
       "4                                           0.020650                     \n",
       "\n",
       "   offic, alway, staff, complex, mainten, friend, apart, leas, call, live  \\\n",
       "0                                           0.163054                        \n",
       "1                                           0.022355                        \n",
       "2                                           0.570540                        \n",
       "3                                           0.461646                        \n",
       "4                                           0.625000                        \n",
       "\n",
       "   live, place, year, love, one, recommend, look, nice, like, clean  \\\n",
       "0                                           0.190386                  \n",
       "1                                           0.022471                  \n",
       "2                                           0.215204                  \n",
       "3                                           0.016026                  \n",
       "4                                           0.314067                  \n",
       "\n",
       "   move, apart, experi, get, day, say, month, first, like, work  \n",
       "0                                           0.407887             \n",
       "1                                           0.910458             \n",
       "2                                           0.016765             \n",
       "3                                           0.490849             \n",
       "4                                           0.020177             "
      ]
     },
     "execution_count": 55,
     "metadata": {},
     "output_type": "execute_result"
    }
   ],
   "source": [
    "topics_reviews.head()"
   ]
  },
  {
   "cell_type": "code",
   "execution_count": 56,
   "metadata": {
    "id": "8jQSDg-X8VmW"
   },
   "outputs": [
    {
     "data": {
      "text/plain": [
       "0       move, apart, experi, get, day, say, month, fir...\n",
       "1       move, apart, experi, get, day, say, month, fir...\n",
       "2       offic, alway, staff, complex, mainten, friend,...\n",
       "3       move, apart, experi, get, day, say, month, fir...\n",
       "4       offic, alway, staff, complex, mainten, friend,...\n",
       "                              ...                        \n",
       "4830    offic, alway, staff, complex, mainten, friend,...\n",
       "4831    offic, alway, staff, complex, mainten, friend,...\n",
       "4832    manag, properti, park, new, resid, care, get, ...\n",
       "4833    manag, properti, park, new, resid, care, get, ...\n",
       "4834    manag, properti, park, new, resid, care, get, ...\n",
       "Length: 4835, dtype: object"
      ]
     },
     "execution_count": 56,
     "metadata": {},
     "output_type": "execute_result"
    }
   ],
   "source": [
    "# Idxmax function and axis=1: return the column name of the max value in a row\n",
    "topics_reviews.idxmax(axis=1)"
   ]
  },
  {
   "cell_type": "code",
   "execution_count": 57,
   "metadata": {
    "id": "YRC_hQKo8VmW"
   },
   "outputs": [],
   "source": [
    "reviews_filter = pd.concat([topics_reviews.idxmax(axis=1),token_data],axis=1).rename(columns={0:'topic'})"
   ]
  },
  {
   "cell_type": "code",
   "execution_count": 58,
   "metadata": {
    "id": "yVz297xm8VmW"
   },
   "outputs": [
    {
     "data": {
      "text/plain": [
       "(4835, 13)"
      ]
     },
     "execution_count": 58,
     "metadata": {},
     "output_type": "execute_result"
    }
   ],
   "source": [
    "reviews_filter.shape"
   ]
  },
  {
   "cell_type": "code",
   "execution_count": 59,
   "metadata": {
    "id": "FRN3vJ5y8VmX"
   },
   "outputs": [
    {
     "data": {
      "text/html": [
       "<div>\n",
       "<style scoped>\n",
       "    .dataframe tbody tr th:only-of-type {\n",
       "        vertical-align: middle;\n",
       "    }\n",
       "\n",
       "    .dataframe tbody tr th {\n",
       "        vertical-align: top;\n",
       "    }\n",
       "\n",
       "    .dataframe thead th {\n",
       "        text-align: right;\n",
       "    }\n",
       "</style>\n",
       "<table border=\"1\" class=\"dataframe\">\n",
       "  <thead>\n",
       "    <tr style=\"text-align: right;\">\n",
       "      <th></th>\n",
       "      <th>topic</th>\n",
       "      <th>title</th>\n",
       "      <th>href</th>\n",
       "      <th>score</th>\n",
       "      <th>location</th>\n",
       "      <th>lat</th>\n",
       "      <th>lon</th>\n",
       "      <th>review_content</th>\n",
       "      <th>review_time</th>\n",
       "      <th>create_time</th>\n",
       "      <th>review_content_low</th>\n",
       "      <th>final_score</th>\n",
       "      <th>geometry</th>\n",
       "    </tr>\n",
       "  </thead>\n",
       "  <tbody>\n",
       "    <tr>\n",
       "      <th>0</th>\n",
       "      <td>move, apart, experi, get, day, say, month, fir...</td>\n",
       "      <td>Lakeside Lofts</td>\n",
       "      <td>https://www.google.com/maps/search/Lakeside+Lo...</td>\n",
       "      <td>{'neg': 0.0, 'neu': 1.0, 'pos': 0.0, 'compound...</td>\n",
       "      <td>11500 Lago Vista E, Farmers Branch, TX 75234, ...</td>\n",
       "      <td>-96.923746</td>\n",
       "      <td>32.901693</td>\n",
       "      <td>This will be my home for a long time thanks to...</td>\n",
       "      <td>get time error</td>\n",
       "      <td>2022-05-03 17:31:59</td>\n",
       "      <td>[home, long, time, thanks, community, area, po...</td>\n",
       "      <td>0.0</td>\n",
       "      <td>POINT (-96.92375 32.90169)</td>\n",
       "    </tr>\n",
       "    <tr>\n",
       "      <th>1</th>\n",
       "      <td>move, apart, experi, get, day, say, month, fir...</td>\n",
       "      <td>Lakeside Lofts</td>\n",
       "      <td>https://www.google.com/maps/search/Lakeside+Lo...</td>\n",
       "      <td>{'neg': 0.0, 'neu': 1.0, 'pos': 0.0, 'compound...</td>\n",
       "      <td>11500 Lago Vista E, Farmers Branch, TX 75234, ...</td>\n",
       "      <td>-96.923746</td>\n",
       "      <td>32.901693</td>\n",
       "      <td>Apartment hunting is stressful and you never r...</td>\n",
       "      <td>get time error</td>\n",
       "      <td>2022-05-03 17:31:59</td>\n",
       "      <td>[apartment, hunting, stressful, never, really,...</td>\n",
       "      <td>0.0</td>\n",
       "      <td>POINT (-96.92375 32.90169)</td>\n",
       "    </tr>\n",
       "    <tr>\n",
       "      <th>2</th>\n",
       "      <td>offic, alway, staff, complex, mainten, friend,...</td>\n",
       "      <td>Lakeside Lofts</td>\n",
       "      <td>https://www.google.com/maps/search/Lakeside+Lo...</td>\n",
       "      <td>{'neg': 0.0, 'neu': 1.0, 'pos': 0.0, 'compound...</td>\n",
       "      <td>11500 Lago Vista E, Farmers Branch, TX 75234, ...</td>\n",
       "      <td>-96.923746</td>\n",
       "      <td>32.901693</td>\n",
       "      <td>I have lived at Lakeside Lofts for over a year...</td>\n",
       "      <td>get time error</td>\n",
       "      <td>2022-05-03 17:31:59</td>\n",
       "      <td>[lived, lakeside, lofts, over, year, &amp;, plan, ...</td>\n",
       "      <td>0.0</td>\n",
       "      <td>POINT (-96.92375 32.90169)</td>\n",
       "    </tr>\n",
       "    <tr>\n",
       "      <th>3</th>\n",
       "      <td>move, apart, experi, get, day, say, month, fir...</td>\n",
       "      <td>Lakeside Lofts</td>\n",
       "      <td>https://www.google.com/maps/search/Lakeside+Lo...</td>\n",
       "      <td>{'neg': 0.0, 'neu': 1.0, 'pos': 0.0, 'compound...</td>\n",
       "      <td>11500 Lago Vista E, Farmers Branch, TX 75234, ...</td>\n",
       "      <td>-96.923746</td>\n",
       "      <td>32.901693</td>\n",
       "      <td>I was a resident of this complex for 14 months...</td>\n",
       "      <td>get time error</td>\n",
       "      <td>2022-05-03 17:31:59</td>\n",
       "      <td>[resident, complex, months, first, moved, i, ....</td>\n",
       "      <td>0.0</td>\n",
       "      <td>POINT (-96.92375 32.90169)</td>\n",
       "    </tr>\n",
       "    <tr>\n",
       "      <th>4</th>\n",
       "      <td>offic, alway, staff, complex, mainten, friend,...</td>\n",
       "      <td>Lakeside Lofts</td>\n",
       "      <td>https://www.google.com/maps/search/Lakeside+Lo...</td>\n",
       "      <td>{'neg': 0.0, 'neu': 1.0, 'pos': 0.0, 'compound...</td>\n",
       "      <td>11500 Lago Vista E, Farmers Branch, TX 75234, ...</td>\n",
       "      <td>-96.923746</td>\n",
       "      <td>32.901693</td>\n",
       "      <td>I really love and enjoy the views, the walk ar...</td>\n",
       "      <td>get time error</td>\n",
       "      <td>2022-05-03 17:31:59</td>\n",
       "      <td>[really, love, enjoy, views, ,, walk, around, ...</td>\n",
       "      <td>0.0</td>\n",
       "      <td>POINT (-96.92375 32.90169)</td>\n",
       "    </tr>\n",
       "  </tbody>\n",
       "</table>\n",
       "</div>"
      ],
      "text/plain": [
       "                                               topic           title  \\\n",
       "0  move, apart, experi, get, day, say, month, fir...  Lakeside Lofts   \n",
       "1  move, apart, experi, get, day, say, month, fir...  Lakeside Lofts   \n",
       "2  offic, alway, staff, complex, mainten, friend,...  Lakeside Lofts   \n",
       "3  move, apart, experi, get, day, say, month, fir...  Lakeside Lofts   \n",
       "4  offic, alway, staff, complex, mainten, friend,...  Lakeside Lofts   \n",
       "\n",
       "                                                href  \\\n",
       "0  https://www.google.com/maps/search/Lakeside+Lo...   \n",
       "1  https://www.google.com/maps/search/Lakeside+Lo...   \n",
       "2  https://www.google.com/maps/search/Lakeside+Lo...   \n",
       "3  https://www.google.com/maps/search/Lakeside+Lo...   \n",
       "4  https://www.google.com/maps/search/Lakeside+Lo...   \n",
       "\n",
       "                                               score  \\\n",
       "0  {'neg': 0.0, 'neu': 1.0, 'pos': 0.0, 'compound...   \n",
       "1  {'neg': 0.0, 'neu': 1.0, 'pos': 0.0, 'compound...   \n",
       "2  {'neg': 0.0, 'neu': 1.0, 'pos': 0.0, 'compound...   \n",
       "3  {'neg': 0.0, 'neu': 1.0, 'pos': 0.0, 'compound...   \n",
       "4  {'neg': 0.0, 'neu': 1.0, 'pos': 0.0, 'compound...   \n",
       "\n",
       "                                            location        lat        lon  \\\n",
       "0  11500 Lago Vista E, Farmers Branch, TX 75234, ... -96.923746  32.901693   \n",
       "1  11500 Lago Vista E, Farmers Branch, TX 75234, ... -96.923746  32.901693   \n",
       "2  11500 Lago Vista E, Farmers Branch, TX 75234, ... -96.923746  32.901693   \n",
       "3  11500 Lago Vista E, Farmers Branch, TX 75234, ... -96.923746  32.901693   \n",
       "4  11500 Lago Vista E, Farmers Branch, TX 75234, ... -96.923746  32.901693   \n",
       "\n",
       "                                      review_content     review_time  \\\n",
       "0  This will be my home for a long time thanks to...  get time error   \n",
       "1  Apartment hunting is stressful and you never r...  get time error   \n",
       "2  I have lived at Lakeside Lofts for over a year...  get time error   \n",
       "3  I was a resident of this complex for 14 months...  get time error   \n",
       "4  I really love and enjoy the views, the walk ar...  get time error   \n",
       "\n",
       "           create_time                                 review_content_low  \\\n",
       "0  2022-05-03 17:31:59  [home, long, time, thanks, community, area, po...   \n",
       "1  2022-05-03 17:31:59  [apartment, hunting, stressful, never, really,...   \n",
       "2  2022-05-03 17:31:59  [lived, lakeside, lofts, over, year, &, plan, ...   \n",
       "3  2022-05-03 17:31:59  [resident, complex, months, first, moved, i, ....   \n",
       "4  2022-05-03 17:31:59  [really, love, enjoy, views, ,, walk, around, ...   \n",
       "\n",
       "   final_score                    geometry  \n",
       "0          0.0  POINT (-96.92375 32.90169)  \n",
       "1          0.0  POINT (-96.92375 32.90169)  \n",
       "2          0.0  POINT (-96.92375 32.90169)  \n",
       "3          0.0  POINT (-96.92375 32.90169)  \n",
       "4          0.0  POINT (-96.92375 32.90169)  "
      ]
     },
     "execution_count": 59,
     "metadata": {},
     "output_type": "execute_result"
    }
   ],
   "source": [
    "reviews_filter.head()"
   ]
  },
  {
   "cell_type": "code",
   "execution_count": 60,
   "metadata": {
    "id": "E6ENabCA9_B5"
   },
   "outputs": [],
   "source": [
    "aa = reviews_filter\n",
    "aa['final_score'] = aa['final_score']*9 + 1"
   ]
  },
  {
   "cell_type": "code",
   "execution_count": 61,
   "metadata": {
    "id": "lIHSpPI__h7w"
   },
   "outputs": [
    {
     "data": {
      "text/html": [
       "<div>\n",
       "<style scoped>\n",
       "    .dataframe tbody tr th:only-of-type {\n",
       "        vertical-align: middle;\n",
       "    }\n",
       "\n",
       "    .dataframe tbody tr th {\n",
       "        vertical-align: top;\n",
       "    }\n",
       "\n",
       "    .dataframe thead th {\n",
       "        text-align: right;\n",
       "    }\n",
       "</style>\n",
       "<table border=\"1\" class=\"dataframe\">\n",
       "  <thead>\n",
       "    <tr style=\"text-align: right;\">\n",
       "      <th></th>\n",
       "      <th>topic</th>\n",
       "      <th>title</th>\n",
       "      <th>href</th>\n",
       "      <th>score</th>\n",
       "      <th>location</th>\n",
       "      <th>lat</th>\n",
       "      <th>lon</th>\n",
       "      <th>review_content</th>\n",
       "      <th>review_time</th>\n",
       "      <th>create_time</th>\n",
       "      <th>review_content_low</th>\n",
       "      <th>final_score</th>\n",
       "      <th>geometry</th>\n",
       "    </tr>\n",
       "  </thead>\n",
       "  <tbody>\n",
       "    <tr>\n",
       "      <th>0</th>\n",
       "      <td>move, apart, experi, get, day, say, month, fir...</td>\n",
       "      <td>Lakeside Lofts</td>\n",
       "      <td>https://www.google.com/maps/search/Lakeside+Lo...</td>\n",
       "      <td>{'neg': 0.0, 'neu': 1.0, 'pos': 0.0, 'compound...</td>\n",
       "      <td>11500 Lago Vista E, Farmers Branch, TX 75234, ...</td>\n",
       "      <td>-96.923746</td>\n",
       "      <td>32.901693</td>\n",
       "      <td>This will be my home for a long time thanks to...</td>\n",
       "      <td>get time error</td>\n",
       "      <td>2022-05-03 17:31:59</td>\n",
       "      <td>[home, long, time, thanks, community, area, po...</td>\n",
       "      <td>1.0</td>\n",
       "      <td>POINT (-96.92375 32.90169)</td>\n",
       "    </tr>\n",
       "    <tr>\n",
       "      <th>1</th>\n",
       "      <td>move, apart, experi, get, day, say, month, fir...</td>\n",
       "      <td>Lakeside Lofts</td>\n",
       "      <td>https://www.google.com/maps/search/Lakeside+Lo...</td>\n",
       "      <td>{'neg': 0.0, 'neu': 1.0, 'pos': 0.0, 'compound...</td>\n",
       "      <td>11500 Lago Vista E, Farmers Branch, TX 75234, ...</td>\n",
       "      <td>-96.923746</td>\n",
       "      <td>32.901693</td>\n",
       "      <td>Apartment hunting is stressful and you never r...</td>\n",
       "      <td>get time error</td>\n",
       "      <td>2022-05-03 17:31:59</td>\n",
       "      <td>[apartment, hunting, stressful, never, really,...</td>\n",
       "      <td>1.0</td>\n",
       "      <td>POINT (-96.92375 32.90169)</td>\n",
       "    </tr>\n",
       "    <tr>\n",
       "      <th>2</th>\n",
       "      <td>offic, alway, staff, complex, mainten, friend,...</td>\n",
       "      <td>Lakeside Lofts</td>\n",
       "      <td>https://www.google.com/maps/search/Lakeside+Lo...</td>\n",
       "      <td>{'neg': 0.0, 'neu': 1.0, 'pos': 0.0, 'compound...</td>\n",
       "      <td>11500 Lago Vista E, Farmers Branch, TX 75234, ...</td>\n",
       "      <td>-96.923746</td>\n",
       "      <td>32.901693</td>\n",
       "      <td>I have lived at Lakeside Lofts for over a year...</td>\n",
       "      <td>get time error</td>\n",
       "      <td>2022-05-03 17:31:59</td>\n",
       "      <td>[lived, lakeside, lofts, over, year, &amp;, plan, ...</td>\n",
       "      <td>1.0</td>\n",
       "      <td>POINT (-96.92375 32.90169)</td>\n",
       "    </tr>\n",
       "    <tr>\n",
       "      <th>3</th>\n",
       "      <td>move, apart, experi, get, day, say, month, fir...</td>\n",
       "      <td>Lakeside Lofts</td>\n",
       "      <td>https://www.google.com/maps/search/Lakeside+Lo...</td>\n",
       "      <td>{'neg': 0.0, 'neu': 1.0, 'pos': 0.0, 'compound...</td>\n",
       "      <td>11500 Lago Vista E, Farmers Branch, TX 75234, ...</td>\n",
       "      <td>-96.923746</td>\n",
       "      <td>32.901693</td>\n",
       "      <td>I was a resident of this complex for 14 months...</td>\n",
       "      <td>get time error</td>\n",
       "      <td>2022-05-03 17:31:59</td>\n",
       "      <td>[resident, complex, months, first, moved, i, ....</td>\n",
       "      <td>1.0</td>\n",
       "      <td>POINT (-96.92375 32.90169)</td>\n",
       "    </tr>\n",
       "    <tr>\n",
       "      <th>4</th>\n",
       "      <td>offic, alway, staff, complex, mainten, friend,...</td>\n",
       "      <td>Lakeside Lofts</td>\n",
       "      <td>https://www.google.com/maps/search/Lakeside+Lo...</td>\n",
       "      <td>{'neg': 0.0, 'neu': 1.0, 'pos': 0.0, 'compound...</td>\n",
       "      <td>11500 Lago Vista E, Farmers Branch, TX 75234, ...</td>\n",
       "      <td>-96.923746</td>\n",
       "      <td>32.901693</td>\n",
       "      <td>I really love and enjoy the views, the walk ar...</td>\n",
       "      <td>get time error</td>\n",
       "      <td>2022-05-03 17:31:59</td>\n",
       "      <td>[really, love, enjoy, views, ,, walk, around, ...</td>\n",
       "      <td>1.0</td>\n",
       "      <td>POINT (-96.92375 32.90169)</td>\n",
       "    </tr>\n",
       "    <tr>\n",
       "      <th>...</th>\n",
       "      <td>...</td>\n",
       "      <td>...</td>\n",
       "      <td>...</td>\n",
       "      <td>...</td>\n",
       "      <td>...</td>\n",
       "      <td>...</td>\n",
       "      <td>...</td>\n",
       "      <td>...</td>\n",
       "      <td>...</td>\n",
       "      <td>...</td>\n",
       "      <td>...</td>\n",
       "      <td>...</td>\n",
       "      <td>...</td>\n",
       "    </tr>\n",
       "    <tr>\n",
       "      <th>4830</th>\n",
       "      <td>offic, alway, staff, complex, mainten, friend,...</td>\n",
       "      <td>Chesapeake</td>\n",
       "      <td>https://www.google.com/maps/search/Chesapeake,...</td>\n",
       "      <td>{'neg': 0.0, 'neu': 1.0, 'pos': 0.0, 'compound...</td>\n",
       "      <td>11620 Audelia Rd, Dallas, TX 75243, United States</td>\n",
       "      <td>-96.717304</td>\n",
       "      <td>32.907477</td>\n",
       "      <td>My husband and I have been here a little over ...</td>\n",
       "      <td>get time error</td>\n",
       "      <td>2022-05-03 17:31:59</td>\n",
       "      <td>[husband, little, over, week, love, it, ., chr...</td>\n",
       "      <td>1.0</td>\n",
       "      <td>MULTIPOLYGON (((-96.71789 32.90955, -96.71773 ...</td>\n",
       "    </tr>\n",
       "    <tr>\n",
       "      <th>4831</th>\n",
       "      <td>offic, alway, staff, complex, mainten, friend,...</td>\n",
       "      <td>Chesapeake</td>\n",
       "      <td>https://www.google.com/maps/search/Chesapeake,...</td>\n",
       "      <td>{'neg': 0.0, 'neu': 1.0, 'pos': 0.0, 'compound...</td>\n",
       "      <td>11620 Audelia Rd, Dallas, TX 75243, United States</td>\n",
       "      <td>-96.717304</td>\n",
       "      <td>32.907477</td>\n",
       "      <td>Management staff is amazing ! The ladies are w...</td>\n",
       "      <td>get time error</td>\n",
       "      <td>2022-05-03 17:31:59</td>\n",
       "      <td>[amazing, !, ladies, willing, work, issues, ma...</td>\n",
       "      <td>1.0</td>\n",
       "      <td>MULTIPOLYGON (((-96.71789 32.90955, -96.71773 ...</td>\n",
       "    </tr>\n",
       "    <tr>\n",
       "      <th>4832</th>\n",
       "      <td>manag, properti, park, new, resid, care, get, ...</td>\n",
       "      <td>Chesapeake</td>\n",
       "      <td>https://www.google.com/maps/search/Chesapeake,...</td>\n",
       "      <td>{'neg': 0.0, 'neu': 1.0, 'pos': 0.0, 'compound...</td>\n",
       "      <td>11620 Audelia Rd, Dallas, TX 75243, United States</td>\n",
       "      <td>-96.717304</td>\n",
       "      <td>32.907477</td>\n",
       "      <td>Management team very bias - if you are Hispani...</td>\n",
       "      <td>get time error</td>\n",
       "      <td>2022-05-03 17:31:59</td>\n",
       "      <td>[team, bias, -, hispanic, ,, apartment, not, ,...</td>\n",
       "      <td>1.0</td>\n",
       "      <td>MULTIPOLYGON (((-96.71789 32.90955, -96.71773 ...</td>\n",
       "    </tr>\n",
       "    <tr>\n",
       "      <th>4833</th>\n",
       "      <td>manag, properti, park, new, resid, care, get, ...</td>\n",
       "      <td>Chesapeake</td>\n",
       "      <td>https://www.google.com/maps/search/Chesapeake,...</td>\n",
       "      <td>{'neg': 0.0, 'neu': 1.0, 'pos': 0.0, 'compound...</td>\n",
       "      <td>11620 Audelia Rd, Dallas, TX 75243, United States</td>\n",
       "      <td>-96.717304</td>\n",
       "      <td>32.907477</td>\n",
       "      <td>My mailbox keeps getting broken into and I’ve ...</td>\n",
       "      <td>get time error</td>\n",
       "      <td>2022-05-03 17:31:59</td>\n",
       "      <td>[mailbox, keeps, getting, broken, i’ve, pay, f...</td>\n",
       "      <td>1.0</td>\n",
       "      <td>MULTIPOLYGON (((-96.71789 32.90955, -96.71773 ...</td>\n",
       "    </tr>\n",
       "    <tr>\n",
       "      <th>4834</th>\n",
       "      <td>manag, properti, park, new, resid, care, get, ...</td>\n",
       "      <td>Chesapeake</td>\n",
       "      <td>https://www.google.com/maps/search/Chesapeake,...</td>\n",
       "      <td>{'neg': 0.0, 'neu': 1.0, 'pos': 0.0, 'compound...</td>\n",
       "      <td>11620 Audelia Rd, Dallas, TX 75243, United States</td>\n",
       "      <td>-96.717304</td>\n",
       "      <td>32.907477</td>\n",
       "      <td>I got mugged here. I was a resident so, parked...</td>\n",
       "      <td>get time error</td>\n",
       "      <td>2022-05-03 17:31:59</td>\n",
       "      <td>[got, mugged, here, ., resident, so, ,, parked...</td>\n",
       "      <td>1.0</td>\n",
       "      <td>MULTIPOLYGON (((-96.71789 32.90955, -96.71773 ...</td>\n",
       "    </tr>\n",
       "  </tbody>\n",
       "</table>\n",
       "<p>4835 rows × 13 columns</p>\n",
       "</div>"
      ],
      "text/plain": [
       "                                                  topic           title  \\\n",
       "0     move, apart, experi, get, day, say, month, fir...  Lakeside Lofts   \n",
       "1     move, apart, experi, get, day, say, month, fir...  Lakeside Lofts   \n",
       "2     offic, alway, staff, complex, mainten, friend,...  Lakeside Lofts   \n",
       "3     move, apart, experi, get, day, say, month, fir...  Lakeside Lofts   \n",
       "4     offic, alway, staff, complex, mainten, friend,...  Lakeside Lofts   \n",
       "...                                                 ...             ...   \n",
       "4830  offic, alway, staff, complex, mainten, friend,...      Chesapeake   \n",
       "4831  offic, alway, staff, complex, mainten, friend,...      Chesapeake   \n",
       "4832  manag, properti, park, new, resid, care, get, ...      Chesapeake   \n",
       "4833  manag, properti, park, new, resid, care, get, ...      Chesapeake   \n",
       "4834  manag, properti, park, new, resid, care, get, ...      Chesapeake   \n",
       "\n",
       "                                                   href  \\\n",
       "0     https://www.google.com/maps/search/Lakeside+Lo...   \n",
       "1     https://www.google.com/maps/search/Lakeside+Lo...   \n",
       "2     https://www.google.com/maps/search/Lakeside+Lo...   \n",
       "3     https://www.google.com/maps/search/Lakeside+Lo...   \n",
       "4     https://www.google.com/maps/search/Lakeside+Lo...   \n",
       "...                                                 ...   \n",
       "4830  https://www.google.com/maps/search/Chesapeake,...   \n",
       "4831  https://www.google.com/maps/search/Chesapeake,...   \n",
       "4832  https://www.google.com/maps/search/Chesapeake,...   \n",
       "4833  https://www.google.com/maps/search/Chesapeake,...   \n",
       "4834  https://www.google.com/maps/search/Chesapeake,...   \n",
       "\n",
       "                                                  score  \\\n",
       "0     {'neg': 0.0, 'neu': 1.0, 'pos': 0.0, 'compound...   \n",
       "1     {'neg': 0.0, 'neu': 1.0, 'pos': 0.0, 'compound...   \n",
       "2     {'neg': 0.0, 'neu': 1.0, 'pos': 0.0, 'compound...   \n",
       "3     {'neg': 0.0, 'neu': 1.0, 'pos': 0.0, 'compound...   \n",
       "4     {'neg': 0.0, 'neu': 1.0, 'pos': 0.0, 'compound...   \n",
       "...                                                 ...   \n",
       "4830  {'neg': 0.0, 'neu': 1.0, 'pos': 0.0, 'compound...   \n",
       "4831  {'neg': 0.0, 'neu': 1.0, 'pos': 0.0, 'compound...   \n",
       "4832  {'neg': 0.0, 'neu': 1.0, 'pos': 0.0, 'compound...   \n",
       "4833  {'neg': 0.0, 'neu': 1.0, 'pos': 0.0, 'compound...   \n",
       "4834  {'neg': 0.0, 'neu': 1.0, 'pos': 0.0, 'compound...   \n",
       "\n",
       "                                               location        lat        lon  \\\n",
       "0     11500 Lago Vista E, Farmers Branch, TX 75234, ... -96.923746  32.901693   \n",
       "1     11500 Lago Vista E, Farmers Branch, TX 75234, ... -96.923746  32.901693   \n",
       "2     11500 Lago Vista E, Farmers Branch, TX 75234, ... -96.923746  32.901693   \n",
       "3     11500 Lago Vista E, Farmers Branch, TX 75234, ... -96.923746  32.901693   \n",
       "4     11500 Lago Vista E, Farmers Branch, TX 75234, ... -96.923746  32.901693   \n",
       "...                                                 ...        ...        ...   \n",
       "4830  11620 Audelia Rd, Dallas, TX 75243, United States -96.717304  32.907477   \n",
       "4831  11620 Audelia Rd, Dallas, TX 75243, United States -96.717304  32.907477   \n",
       "4832  11620 Audelia Rd, Dallas, TX 75243, United States -96.717304  32.907477   \n",
       "4833  11620 Audelia Rd, Dallas, TX 75243, United States -96.717304  32.907477   \n",
       "4834  11620 Audelia Rd, Dallas, TX 75243, United States -96.717304  32.907477   \n",
       "\n",
       "                                         review_content     review_time  \\\n",
       "0     This will be my home for a long time thanks to...  get time error   \n",
       "1     Apartment hunting is stressful and you never r...  get time error   \n",
       "2     I have lived at Lakeside Lofts for over a year...  get time error   \n",
       "3     I was a resident of this complex for 14 months...  get time error   \n",
       "4     I really love and enjoy the views, the walk ar...  get time error   \n",
       "...                                                 ...             ...   \n",
       "4830  My husband and I have been here a little over ...  get time error   \n",
       "4831  Management staff is amazing ! The ladies are w...  get time error   \n",
       "4832  Management team very bias - if you are Hispani...  get time error   \n",
       "4833  My mailbox keeps getting broken into and I’ve ...  get time error   \n",
       "4834  I got mugged here. I was a resident so, parked...  get time error   \n",
       "\n",
       "              create_time                                 review_content_low  \\\n",
       "0     2022-05-03 17:31:59  [home, long, time, thanks, community, area, po...   \n",
       "1     2022-05-03 17:31:59  [apartment, hunting, stressful, never, really,...   \n",
       "2     2022-05-03 17:31:59  [lived, lakeside, lofts, over, year, &, plan, ...   \n",
       "3     2022-05-03 17:31:59  [resident, complex, months, first, moved, i, ....   \n",
       "4     2022-05-03 17:31:59  [really, love, enjoy, views, ,, walk, around, ...   \n",
       "...                   ...                                                ...   \n",
       "4830  2022-05-03 17:31:59  [husband, little, over, week, love, it, ., chr...   \n",
       "4831  2022-05-03 17:31:59  [amazing, !, ladies, willing, work, issues, ma...   \n",
       "4832  2022-05-03 17:31:59  [team, bias, -, hispanic, ,, apartment, not, ,...   \n",
       "4833  2022-05-03 17:31:59  [mailbox, keeps, getting, broken, i’ve, pay, f...   \n",
       "4834  2022-05-03 17:31:59  [got, mugged, here, ., resident, so, ,, parked...   \n",
       "\n",
       "      final_score                                           geometry  \n",
       "0             1.0                         POINT (-96.92375 32.90169)  \n",
       "1             1.0                         POINT (-96.92375 32.90169)  \n",
       "2             1.0                         POINT (-96.92375 32.90169)  \n",
       "3             1.0                         POINT (-96.92375 32.90169)  \n",
       "4             1.0                         POINT (-96.92375 32.90169)  \n",
       "...           ...                                                ...  \n",
       "4830          1.0  MULTIPOLYGON (((-96.71789 32.90955, -96.71773 ...  \n",
       "4831          1.0  MULTIPOLYGON (((-96.71789 32.90955, -96.71773 ...  \n",
       "4832          1.0  MULTIPOLYGON (((-96.71789 32.90955, -96.71773 ...  \n",
       "4833          1.0  MULTIPOLYGON (((-96.71789 32.90955, -96.71773 ...  \n",
       "4834          1.0  MULTIPOLYGON (((-96.71789 32.90955, -96.71773 ...  \n",
       "\n",
       "[4835 rows x 13 columns]"
      ]
     },
     "execution_count": 61,
     "metadata": {},
     "output_type": "execute_result"
    }
   ],
   "source": [
    "aa"
   ]
  },
  {
   "cell_type": "code",
   "execution_count": 62,
   "metadata": {
    "id": "Pef2eAyWCXfA"
   },
   "outputs": [
    {
     "data": {
      "text/plain": [
       "array([[<AxesSubplot:title={'center':'final_score'}>]], dtype=object)"
      ]
     },
     "execution_count": 62,
     "metadata": {},
     "output_type": "execute_result"
    },
    {
     "data": {
      "image/png": "[encoded data removed]",
      "text/plain": [
       "<Figure size 432x288 with 1 Axes>"
      ]
     },
     "metadata": {
      "needs_background": "light"
     },
     "output_type": "display_data"
    }
   ],
   "source": [
    "aa.hist(column='final_score')"
   ]
  },
  {
   "cell_type": "markdown",
   "metadata": {
    "id": "j2xd3O758VmX"
   },
   "source": [
    "# This is  done for all reviews just as a trial. To get relavant reviews we need to select specific words(could also be adjectives) such as: mold, plumbing, broken etc. We can select the workds from the bag of words after we have the complete data. As of now the topic modeling as well as sentiment score is quite irrelavant expect a better reslut after we do the filtering."
   ]
  },
  {
   "cell_type": "code",
   "execution_count": 63,
   "metadata": {
    "id": "2Jhbg4Cq8VmY"
   },
   "outputs": [
    {
     "data": {
      "text/plain": [
       "final_score\n",
       "-4.7321       1\n",
       "-4.2434       1\n",
       "-3.8807       1\n",
       "-3.5954       1\n",
       "-3.2903       3\n",
       "-2.9636       2\n",
       "-2.2508       1\n",
       " 0.3052       1\n",
       " 1.0000    4762\n",
       " 3.0367       2\n",
       " 3.6640       8\n",
       " 3.8638       4\n",
       " 4.2508       2\n",
       " 4.7935       8\n",
       " 4.9636      14\n",
       " 5.2903       2\n",
       " 5.5954       1\n",
       " 6.2731       3\n",
       " 6.3946       5\n",
       " 6.6241       2\n",
       " 6.7321       5\n",
       " 7.0264       2\n",
       "Name: location, dtype: int64"
      ]
     },
     "execution_count": 63,
     "metadata": {},
     "output_type": "execute_result"
    }
   ],
   "source": [
    "reviews_filter.groupby(['final_score'])['location'].count()"
   ]
  },
  {
   "cell_type": "code",
   "execution_count": 64,
   "metadata": {
    "id": "yKXqCDUa8VmY"
   },
   "outputs": [],
   "source": [
    "reviews_filter2=reviews_filter.groupby(['final_score'])['location'].count()"
   ]
  },
  {
   "cell_type": "code",
   "execution_count": 65,
   "metadata": {
    "id": "22G-ddZi8VmY"
   },
   "outputs": [
    {
     "ename": "AttributeError",
     "evalue": "'Rectangle' object has no property 'column'",
     "output_type": "error",
     "traceback": [
      "\u001b[0;31m---------------------------------------------------------------------------\u001b[0m",
      "\u001b[0;31mAttributeError\u001b[0m                            Traceback (most recent call last)",
      "\u001b[0;32m<ipython-input-65-fb65c4da49bf>\u001b[0m in \u001b[0;36m<module>\u001b[0;34m\u001b[0m\n\u001b[0;32m----> 1\u001b[0;31m \u001b[0mreviews_filter2\u001b[0m\u001b[0;34m.\u001b[0m\u001b[0mhist\u001b[0m\u001b[0;34m(\u001b[0m\u001b[0mcolumn\u001b[0m\u001b[0;34m=\u001b[0m\u001b[0;34m'final_score'\u001b[0m\u001b[0;34m)\u001b[0m\u001b[0;34m\u001b[0m\u001b[0;34m\u001b[0m\u001b[0m\n\u001b[0m",
      "\u001b[0;32m/opt/anaconda3/envs/mypytorch/lib/python3.8/site-packages/pandas/plotting/_core.py\u001b[0m in \u001b[0;36mhist_series\u001b[0;34m(self, by, ax, grid, xlabelsize, xrot, ylabelsize, yrot, figsize, bins, backend, legend, **kwargs)\u001b[0m\n\u001b[1;32m     83\u001b[0m     \"\"\"\n\u001b[1;32m     84\u001b[0m     \u001b[0mplot_backend\u001b[0m \u001b[0;34m=\u001b[0m \u001b[0m_get_plot_backend\u001b[0m\u001b[0;34m(\u001b[0m\u001b[0mbackend\u001b[0m\u001b[0;34m)\u001b[0m\u001b[0;34m\u001b[0m\u001b[0;34m\u001b[0m\u001b[0m\n\u001b[0;32m---> 85\u001b[0;31m     return plot_backend.hist_series(\n\u001b[0m\u001b[1;32m     86\u001b[0m         \u001b[0mself\u001b[0m\u001b[0;34m,\u001b[0m\u001b[0;34m\u001b[0m\u001b[0;34m\u001b[0m\u001b[0m\n\u001b[1;32m     87\u001b[0m         \u001b[0mby\u001b[0m\u001b[0;34m=\u001b[0m\u001b[0mby\u001b[0m\u001b[0;34m,\u001b[0m\u001b[0;34m\u001b[0m\u001b[0;34m\u001b[0m\u001b[0m\n",
      "\u001b[0;32m/opt/anaconda3/envs/mypytorch/lib/python3.8/site-packages/pandas/plotting/_matplotlib/hist.py\u001b[0m in \u001b[0;36mhist_series\u001b[0;34m(self, by, ax, grid, xlabelsize, xrot, ylabelsize, yrot, figsize, bins, legend, **kwds)\u001b[0m\n\u001b[1;32m    336\u001b[0m         \u001b[0;32mif\u001b[0m \u001b[0mlegend\u001b[0m\u001b[0;34m:\u001b[0m\u001b[0;34m\u001b[0m\u001b[0;34m\u001b[0m\u001b[0m\n\u001b[1;32m    337\u001b[0m             \u001b[0mkwds\u001b[0m\u001b[0;34m[\u001b[0m\u001b[0;34m\"label\"\u001b[0m\u001b[0;34m]\u001b[0m \u001b[0;34m=\u001b[0m \u001b[0mself\u001b[0m\u001b[0;34m.\u001b[0m\u001b[0mname\u001b[0m\u001b[0;34m\u001b[0m\u001b[0;34m\u001b[0m\u001b[0m\n\u001b[0;32m--> 338\u001b[0;31m         \u001b[0max\u001b[0m\u001b[0;34m.\u001b[0m\u001b[0mhist\u001b[0m\u001b[0;34m(\u001b[0m\u001b[0mvalues\u001b[0m\u001b[0;34m,\u001b[0m \u001b[0mbins\u001b[0m\u001b[0;34m=\u001b[0m\u001b[0mbins\u001b[0m\u001b[0;34m,\u001b[0m \u001b[0;34m**\u001b[0m\u001b[0mkwds\u001b[0m\u001b[0;34m)\u001b[0m\u001b[0;34m\u001b[0m\u001b[0;34m\u001b[0m\u001b[0m\n\u001b[0m\u001b[1;32m    339\u001b[0m         \u001b[0;32mif\u001b[0m \u001b[0mlegend\u001b[0m\u001b[0;34m:\u001b[0m\u001b[0;34m\u001b[0m\u001b[0;34m\u001b[0m\u001b[0m\n\u001b[1;32m    340\u001b[0m             \u001b[0max\u001b[0m\u001b[0;34m.\u001b[0m\u001b[0mlegend\u001b[0m\u001b[0;34m(\u001b[0m\u001b[0;34m)\u001b[0m\u001b[0;34m\u001b[0m\u001b[0;34m\u001b[0m\u001b[0m\n",
      "\u001b[0;32m/opt/anaconda3/envs/mypytorch/lib/python3.8/site-packages/matplotlib/__init__.py\u001b[0m in \u001b[0;36minner\u001b[0;34m(ax, data, *args, **kwargs)\u001b[0m\n\u001b[1;32m   1410\u001b[0m     \u001b[0;32mdef\u001b[0m \u001b[0minner\u001b[0m\u001b[0;34m(\u001b[0m\u001b[0max\u001b[0m\u001b[0;34m,\u001b[0m \u001b[0;34m*\u001b[0m\u001b[0margs\u001b[0m\u001b[0;34m,\u001b[0m \u001b[0mdata\u001b[0m\u001b[0;34m=\u001b[0m\u001b[0;32mNone\u001b[0m\u001b[0;34m,\u001b[0m \u001b[0;34m**\u001b[0m\u001b[0mkwargs\u001b[0m\u001b[0;34m)\u001b[0m\u001b[0;34m:\u001b[0m\u001b[0;34m\u001b[0m\u001b[0;34m\u001b[0m\u001b[0m\n\u001b[1;32m   1411\u001b[0m         \u001b[0;32mif\u001b[0m \u001b[0mdata\u001b[0m \u001b[0;32mis\u001b[0m \u001b[0;32mNone\u001b[0m\u001b[0;34m:\u001b[0m\u001b[0;34m\u001b[0m\u001b[0;34m\u001b[0m\u001b[0m\n\u001b[0;32m-> 1412\u001b[0;31m             \u001b[0;32mreturn\u001b[0m \u001b[0mfunc\u001b[0m\u001b[0;34m(\u001b[0m\u001b[0max\u001b[0m\u001b[0;34m,\u001b[0m \u001b[0;34m*\u001b[0m\u001b[0mmap\u001b[0m\u001b[0;34m(\u001b[0m\u001b[0msanitize_sequence\u001b[0m\u001b[0;34m,\u001b[0m \u001b[0margs\u001b[0m\u001b[0;34m)\u001b[0m\u001b[0;34m,\u001b[0m \u001b[0;34m**\u001b[0m\u001b[0mkwargs\u001b[0m\u001b[0;34m)\u001b[0m\u001b[0;34m\u001b[0m\u001b[0;34m\u001b[0m\u001b[0m\n\u001b[0m\u001b[1;32m   1413\u001b[0m \u001b[0;34m\u001b[0m\u001b[0m\n\u001b[1;32m   1414\u001b[0m         \u001b[0mbound\u001b[0m \u001b[0;34m=\u001b[0m \u001b[0mnew_sig\u001b[0m\u001b[0;34m.\u001b[0m\u001b[0mbind\u001b[0m\u001b[0;34m(\u001b[0m\u001b[0max\u001b[0m\u001b[0;34m,\u001b[0m \u001b[0;34m*\u001b[0m\u001b[0margs\u001b[0m\u001b[0;34m,\u001b[0m \u001b[0;34m**\u001b[0m\u001b[0mkwargs\u001b[0m\u001b[0;34m)\u001b[0m\u001b[0;34m\u001b[0m\u001b[0;34m\u001b[0m\u001b[0m\n",
      "\u001b[0;32m/opt/anaconda3/envs/mypytorch/lib/python3.8/site-packages/matplotlib/axes/_axes.py\u001b[0m in \u001b[0;36mhist\u001b[0;34m(self, x, bins, range, density, weights, cumulative, bottom, histtype, align, orientation, rwidth, log, color, label, stacked, **kwargs)\u001b[0m\n\u001b[1;32m   6789\u001b[0m             \u001b[0;32mif\u001b[0m \u001b[0mpatch\u001b[0m\u001b[0;34m:\u001b[0m\u001b[0;34m\u001b[0m\u001b[0;34m\u001b[0m\u001b[0m\n\u001b[1;32m   6790\u001b[0m                 \u001b[0mp\u001b[0m \u001b[0;34m=\u001b[0m \u001b[0mpatch\u001b[0m\u001b[0;34m[\u001b[0m\u001b[0;36m0\u001b[0m\u001b[0;34m]\u001b[0m\u001b[0;34m\u001b[0m\u001b[0;34m\u001b[0m\u001b[0m\n\u001b[0;32m-> 6791\u001b[0;31m                 \u001b[0mp\u001b[0m\u001b[0;34m.\u001b[0m\u001b[0mupdate\u001b[0m\u001b[0;34m(\u001b[0m\u001b[0mkwargs\u001b[0m\u001b[0;34m)\u001b[0m\u001b[0;34m\u001b[0m\u001b[0;34m\u001b[0m\u001b[0m\n\u001b[0m\u001b[1;32m   6792\u001b[0m                 \u001b[0;32mif\u001b[0m \u001b[0mlbl\u001b[0m \u001b[0;32mis\u001b[0m \u001b[0;32mnot\u001b[0m \u001b[0;32mNone\u001b[0m\u001b[0;34m:\u001b[0m\u001b[0;34m\u001b[0m\u001b[0;34m\u001b[0m\u001b[0m\n\u001b[1;32m   6793\u001b[0m                     \u001b[0mp\u001b[0m\u001b[0;34m.\u001b[0m\u001b[0mset_label\u001b[0m\u001b[0;34m(\u001b[0m\u001b[0mlbl\u001b[0m\u001b[0;34m)\u001b[0m\u001b[0;34m\u001b[0m\u001b[0;34m\u001b[0m\u001b[0m\n",
      "\u001b[0;32m/opt/anaconda3/envs/mypytorch/lib/python3.8/site-packages/matplotlib/artist.py\u001b[0m in \u001b[0;36mupdate\u001b[0;34m(self, props)\u001b[0m\n\u001b[1;32m   1062\u001b[0m                     \u001b[0mfunc\u001b[0m \u001b[0;34m=\u001b[0m \u001b[0mgetattr\u001b[0m\u001b[0;34m(\u001b[0m\u001b[0mself\u001b[0m\u001b[0;34m,\u001b[0m \u001b[0;34mf\"set_{k}\"\u001b[0m\u001b[0;34m,\u001b[0m \u001b[0;32mNone\u001b[0m\u001b[0;34m)\u001b[0m\u001b[0;34m\u001b[0m\u001b[0;34m\u001b[0m\u001b[0m\n\u001b[1;32m   1063\u001b[0m                     \u001b[0;32mif\u001b[0m \u001b[0;32mnot\u001b[0m \u001b[0mcallable\u001b[0m\u001b[0;34m(\u001b[0m\u001b[0mfunc\u001b[0m\u001b[0;34m)\u001b[0m\u001b[0;34m:\u001b[0m\u001b[0;34m\u001b[0m\u001b[0;34m\u001b[0m\u001b[0m\n\u001b[0;32m-> 1064\u001b[0;31m                         raise AttributeError(f\"{type(self).__name__!r} object \"\n\u001b[0m\u001b[1;32m   1065\u001b[0m                                              f\"has no property {k!r}\")\n\u001b[1;32m   1066\u001b[0m                     \u001b[0mret\u001b[0m\u001b[0;34m.\u001b[0m\u001b[0mappend\u001b[0m\u001b[0;34m(\u001b[0m\u001b[0mfunc\u001b[0m\u001b[0;34m(\u001b[0m\u001b[0mv\u001b[0m\u001b[0;34m)\u001b[0m\u001b[0;34m)\u001b[0m\u001b[0;34m\u001b[0m\u001b[0;34m\u001b[0m\u001b[0m\n",
      "\u001b[0;31mAttributeError\u001b[0m: 'Rectangle' object has no property 'column'"
     ]
    },
    {
     "data": {
      "image/png": "[encoded data removed]",
      "text/plain": [
       "<Figure size 432x288 with 1 Axes>"
      ]
     },
     "metadata": {
      "needs_background": "light"
     },
     "output_type": "display_data"
    }
   ],
   "source": [
    "reviews_filter2.hist(column='final_score')"
   ]
  },
  {
   "cell_type": "code",
   "execution_count": null,
   "metadata": {
    "id": "CgI2DvPo8VmY"
   },
   "outputs": [],
   "source": [
    "reviews_filter2.reset_index()"
   ]
  },
  {
   "cell_type": "code",
   "execution_count": null,
   "metadata": {
    "id": "0EHhStf_8VmY"
   },
   "outputs": [],
   "source": [
    "reviews_filter2.hist()"
   ]
  },
  {
   "cell_type": "code",
   "execution_count": null,
   "metadata": {
    "id": "Zyrufg-b8VmY"
   },
   "outputs": [],
   "source": [
    "reviews_filter2.plot(kind=\"hist\",log=True)"
   ]
  },
  {
   "cell_type": "code",
   "execution_count": null,
   "metadata": {
    "id": "-C2t41C18VmY"
   },
   "outputs": [],
   "source": [
    "import matplotlib.pyplot as plt"
   ]
  },
  {
   "cell_type": "code",
   "execution_count": null,
   "metadata": {
    "id": "khRxwcNW8VmY"
   },
   "outputs": [],
   "source": [
    "reviews_filter3= reviews_filter2.reset_index()"
   ]
  },
  {
   "cell_type": "code",
   "execution_count": null,
   "metadata": {
    "id": "LH8HTNAI8VmZ"
   },
   "outputs": [],
   "source": [
    "plt.bar(reviews_filter3['final_score'],reviews_filter3['location'],0.1)\n",
    "plt.xlabel('Score')\n",
    "plt.ylabel('Num')"
   ]
  },
  {
   "cell_type": "code",
   "execution_count": null,
   "metadata": {
    "id": "TipL0i9P8VmZ"
   },
   "outputs": [],
   "source": [
    "data"
   ]
  },
  {
   "cell_type": "code",
   "execution_count": 66,
   "metadata": {
    "colab": {
     "base_uri": "https://localhost:8080/",
     "height": 167
    },
    "id": "wf76t43TBO7S",
    "outputId": "c337cfdb-28db-40ea-ffdf-6927a0ed6a13"
   },
   "outputs": [],
   "source": [
    "data1 = data"
   ]
  },
  {
   "cell_type": "code",
   "execution_count": 67,
   "metadata": {
    "colab": {
     "base_uri": "https://localhost:8080/",
     "height": 219
    },
    "id": "Z8ENXtAO8VmZ",
    "outputId": "8654a0f8-5f2e-47b4-8317-01c378fb92cf"
   },
   "outputs": [],
   "source": [
    "new_min = 0\n",
    "new_max = 10\n",
    "\n",
    "score_min = data1['score'].min()\n",
    "score_max = data1['score'].max()"
   ]
  },
  {
   "cell_type": "code",
   "execution_count": 68,
   "metadata": {
    "colab": {
     "base_uri": "https://localhost:8080/",
     "height": 237
    },
    "id": "pNoZfozm8VmZ",
    "outputId": "68e87420-284e-473f-e791-c081ba98d39d"
   },
   "outputs": [
    {
     "data": {
      "text/html": [
       "<div>\n",
       "<style scoped>\n",
       "    .dataframe tbody tr th:only-of-type {\n",
       "        vertical-align: middle;\n",
       "    }\n",
       "\n",
       "    .dataframe tbody tr th {\n",
       "        vertical-align: top;\n",
       "    }\n",
       "\n",
       "    .dataframe thead th {\n",
       "        text-align: right;\n",
       "    }\n",
       "</style>\n",
       "<table border=\"1\" class=\"dataframe\">\n",
       "  <thead>\n",
       "    <tr style=\"text-align: right;\">\n",
       "      <th></th>\n",
       "      <th>title</th>\n",
       "      <th>href</th>\n",
       "      <th>score</th>\n",
       "      <th>location</th>\n",
       "      <th>lat</th>\n",
       "      <th>lon</th>\n",
       "      <th>review_content</th>\n",
       "      <th>review_time</th>\n",
       "      <th>create_time</th>\n",
       "      <th>review_content_low</th>\n",
       "      <th>rank</th>\n",
       "    </tr>\n",
       "  </thead>\n",
       "  <tbody>\n",
       "    <tr>\n",
       "      <th>0</th>\n",
       "      <td>Lakeside Lofts</td>\n",
       "      <td>https://www.google.com/maps/search/Lakeside+Lo...</td>\n",
       "      <td>3.4</td>\n",
       "      <td>11500 Lago Vista E, Farmers Branch, TX 75234, ...</td>\n",
       "      <td>-96.923746</td>\n",
       "      <td>32.901693</td>\n",
       "      <td>This will be my home for a long time thanks to...</td>\n",
       "      <td>get time error</td>\n",
       "      <td>2022-05-03 17:31:59</td>\n",
       "      <td>[home, long, time, thanks, community, area, po...</td>\n",
       "      <td>4.00</td>\n",
       "    </tr>\n",
       "    <tr>\n",
       "      <th>1</th>\n",
       "      <td>Lakeside Lofts</td>\n",
       "      <td>https://www.google.com/maps/search/Lakeside+Lo...</td>\n",
       "      <td>3.4</td>\n",
       "      <td>11500 Lago Vista E, Farmers Branch, TX 75234, ...</td>\n",
       "      <td>-96.923746</td>\n",
       "      <td>32.901693</td>\n",
       "      <td>Apartment hunting is stressful and you never r...</td>\n",
       "      <td>get time error</td>\n",
       "      <td>2022-05-03 17:31:59</td>\n",
       "      <td>[apartment, hunting, stressful, never, really,...</td>\n",
       "      <td>4.00</td>\n",
       "    </tr>\n",
       "    <tr>\n",
       "      <th>2</th>\n",
       "      <td>Lakeside Lofts</td>\n",
       "      <td>https://www.google.com/maps/search/Lakeside+Lo...</td>\n",
       "      <td>3.4</td>\n",
       "      <td>11500 Lago Vista E, Farmers Branch, TX 75234, ...</td>\n",
       "      <td>-96.923746</td>\n",
       "      <td>32.901693</td>\n",
       "      <td>I have lived at Lakeside Lofts for over a year...</td>\n",
       "      <td>get time error</td>\n",
       "      <td>2022-05-03 17:31:59</td>\n",
       "      <td>[lived, lakeside, lofts, over, year, &amp;, plan, ...</td>\n",
       "      <td>4.00</td>\n",
       "    </tr>\n",
       "    <tr>\n",
       "      <th>3</th>\n",
       "      <td>Lakeside Lofts</td>\n",
       "      <td>https://www.google.com/maps/search/Lakeside+Lo...</td>\n",
       "      <td>3.4</td>\n",
       "      <td>11500 Lago Vista E, Farmers Branch, TX 75234, ...</td>\n",
       "      <td>-96.923746</td>\n",
       "      <td>32.901693</td>\n",
       "      <td>I was a resident of this complex for 14 months...</td>\n",
       "      <td>get time error</td>\n",
       "      <td>2022-05-03 17:31:59</td>\n",
       "      <td>[resident, complex, months, first, moved, i, ....</td>\n",
       "      <td>4.00</td>\n",
       "    </tr>\n",
       "    <tr>\n",
       "      <th>4</th>\n",
       "      <td>Lakeside Lofts</td>\n",
       "      <td>https://www.google.com/maps/search/Lakeside+Lo...</td>\n",
       "      <td>3.4</td>\n",
       "      <td>11500 Lago Vista E, Farmers Branch, TX 75234, ...</td>\n",
       "      <td>-96.923746</td>\n",
       "      <td>32.901693</td>\n",
       "      <td>I really love and enjoy the views, the walk ar...</td>\n",
       "      <td>get time error</td>\n",
       "      <td>2022-05-03 17:31:59</td>\n",
       "      <td>[really, love, enjoy, views, ,, walk, around, ...</td>\n",
       "      <td>4.00</td>\n",
       "    </tr>\n",
       "    <tr>\n",
       "      <th>...</th>\n",
       "      <td>...</td>\n",
       "      <td>...</td>\n",
       "      <td>...</td>\n",
       "      <td>...</td>\n",
       "      <td>...</td>\n",
       "      <td>...</td>\n",
       "      <td>...</td>\n",
       "      <td>...</td>\n",
       "      <td>...</td>\n",
       "      <td>...</td>\n",
       "      <td>...</td>\n",
       "    </tr>\n",
       "    <tr>\n",
       "      <th>4830</th>\n",
       "      <td>Chesapeake</td>\n",
       "      <td>https://www.google.com/maps/search/Chesapeake,...</td>\n",
       "      <td>2.3</td>\n",
       "      <td>11620 Audelia Rd, Dallas, TX 75243, United States</td>\n",
       "      <td>-96.717304</td>\n",
       "      <td>32.907477</td>\n",
       "      <td>My husband and I have been here a little over ...</td>\n",
       "      <td>get time error</td>\n",
       "      <td>2022-05-03 17:31:59</td>\n",
       "      <td>[husband, little, over, week, love, it, ., chr...</td>\n",
       "      <td>6.75</td>\n",
       "    </tr>\n",
       "    <tr>\n",
       "      <th>4831</th>\n",
       "      <td>Chesapeake</td>\n",
       "      <td>https://www.google.com/maps/search/Chesapeake,...</td>\n",
       "      <td>2.3</td>\n",
       "      <td>11620 Audelia Rd, Dallas, TX 75243, United States</td>\n",
       "      <td>-96.717304</td>\n",
       "      <td>32.907477</td>\n",
       "      <td>Management staff is amazing ! The ladies are w...</td>\n",
       "      <td>get time error</td>\n",
       "      <td>2022-05-03 17:31:59</td>\n",
       "      <td>[amazing, !, ladies, willing, work, issues, ma...</td>\n",
       "      <td>6.75</td>\n",
       "    </tr>\n",
       "    <tr>\n",
       "      <th>4832</th>\n",
       "      <td>Chesapeake</td>\n",
       "      <td>https://www.google.com/maps/search/Chesapeake,...</td>\n",
       "      <td>2.3</td>\n",
       "      <td>11620 Audelia Rd, Dallas, TX 75243, United States</td>\n",
       "      <td>-96.717304</td>\n",
       "      <td>32.907477</td>\n",
       "      <td>Management team very bias - if you are Hispani...</td>\n",
       "      <td>get time error</td>\n",
       "      <td>2022-05-03 17:31:59</td>\n",
       "      <td>[team, bias, -, hispanic, ,, apartment, not, ,...</td>\n",
       "      <td>6.75</td>\n",
       "    </tr>\n",
       "    <tr>\n",
       "      <th>4833</th>\n",
       "      <td>Chesapeake</td>\n",
       "      <td>https://www.google.com/maps/search/Chesapeake,...</td>\n",
       "      <td>2.3</td>\n",
       "      <td>11620 Audelia Rd, Dallas, TX 75243, United States</td>\n",
       "      <td>-96.717304</td>\n",
       "      <td>32.907477</td>\n",
       "      <td>My mailbox keeps getting broken into and I’ve ...</td>\n",
       "      <td>get time error</td>\n",
       "      <td>2022-05-03 17:31:59</td>\n",
       "      <td>[mailbox, keeps, getting, broken, i’ve, pay, f...</td>\n",
       "      <td>6.75</td>\n",
       "    </tr>\n",
       "    <tr>\n",
       "      <th>4834</th>\n",
       "      <td>Chesapeake</td>\n",
       "      <td>https://www.google.com/maps/search/Chesapeake,...</td>\n",
       "      <td>2.3</td>\n",
       "      <td>11620 Audelia Rd, Dallas, TX 75243, United States</td>\n",
       "      <td>-96.717304</td>\n",
       "      <td>32.907477</td>\n",
       "      <td>I got mugged here. I was a resident so, parked...</td>\n",
       "      <td>get time error</td>\n",
       "      <td>2022-05-03 17:31:59</td>\n",
       "      <td>[got, mugged, here, ., resident, so, ,, parked...</td>\n",
       "      <td>6.75</td>\n",
       "    </tr>\n",
       "  </tbody>\n",
       "</table>\n",
       "<p>4835 rows × 11 columns</p>\n",
       "</div>"
      ],
      "text/plain": [
       "               title                                               href  \\\n",
       "0     Lakeside Lofts  https://www.google.com/maps/search/Lakeside+Lo...   \n",
       "1     Lakeside Lofts  https://www.google.com/maps/search/Lakeside+Lo...   \n",
       "2     Lakeside Lofts  https://www.google.com/maps/search/Lakeside+Lo...   \n",
       "3     Lakeside Lofts  https://www.google.com/maps/search/Lakeside+Lo...   \n",
       "4     Lakeside Lofts  https://www.google.com/maps/search/Lakeside+Lo...   \n",
       "...              ...                                                ...   \n",
       "4830      Chesapeake  https://www.google.com/maps/search/Chesapeake,...   \n",
       "4831      Chesapeake  https://www.google.com/maps/search/Chesapeake,...   \n",
       "4832      Chesapeake  https://www.google.com/maps/search/Chesapeake,...   \n",
       "4833      Chesapeake  https://www.google.com/maps/search/Chesapeake,...   \n",
       "4834      Chesapeake  https://www.google.com/maps/search/Chesapeake,...   \n",
       "\n",
       "      score                                           location        lat  \\\n",
       "0       3.4  11500 Lago Vista E, Farmers Branch, TX 75234, ... -96.923746   \n",
       "1       3.4  11500 Lago Vista E, Farmers Branch, TX 75234, ... -96.923746   \n",
       "2       3.4  11500 Lago Vista E, Farmers Branch, TX 75234, ... -96.923746   \n",
       "3       3.4  11500 Lago Vista E, Farmers Branch, TX 75234, ... -96.923746   \n",
       "4       3.4  11500 Lago Vista E, Farmers Branch, TX 75234, ... -96.923746   \n",
       "...     ...                                                ...        ...   \n",
       "4830    2.3  11620 Audelia Rd, Dallas, TX 75243, United States -96.717304   \n",
       "4831    2.3  11620 Audelia Rd, Dallas, TX 75243, United States -96.717304   \n",
       "4832    2.3  11620 Audelia Rd, Dallas, TX 75243, United States -96.717304   \n",
       "4833    2.3  11620 Audelia Rd, Dallas, TX 75243, United States -96.717304   \n",
       "4834    2.3  11620 Audelia Rd, Dallas, TX 75243, United States -96.717304   \n",
       "\n",
       "            lon                                     review_content  \\\n",
       "0     32.901693  This will be my home for a long time thanks to...   \n",
       "1     32.901693  Apartment hunting is stressful and you never r...   \n",
       "2     32.901693  I have lived at Lakeside Lofts for over a year...   \n",
       "3     32.901693  I was a resident of this complex for 14 months...   \n",
       "4     32.901693  I really love and enjoy the views, the walk ar...   \n",
       "...         ...                                                ...   \n",
       "4830  32.907477  My husband and I have been here a little over ...   \n",
       "4831  32.907477  Management staff is amazing ! The ladies are w...   \n",
       "4832  32.907477  Management team very bias - if you are Hispani...   \n",
       "4833  32.907477  My mailbox keeps getting broken into and I’ve ...   \n",
       "4834  32.907477  I got mugged here. I was a resident so, parked...   \n",
       "\n",
       "         review_time          create_time  \\\n",
       "0     get time error  2022-05-03 17:31:59   \n",
       "1     get time error  2022-05-03 17:31:59   \n",
       "2     get time error  2022-05-03 17:31:59   \n",
       "3     get time error  2022-05-03 17:31:59   \n",
       "4     get time error  2022-05-03 17:31:59   \n",
       "...              ...                  ...   \n",
       "4830  get time error  2022-05-03 17:31:59   \n",
       "4831  get time error  2022-05-03 17:31:59   \n",
       "4832  get time error  2022-05-03 17:31:59   \n",
       "4833  get time error  2022-05-03 17:31:59   \n",
       "4834  get time error  2022-05-03 17:31:59   \n",
       "\n",
       "                                     review_content_low  rank  \n",
       "0     [home, long, time, thanks, community, area, po...  4.00  \n",
       "1     [apartment, hunting, stressful, never, really,...  4.00  \n",
       "2     [lived, lakeside, lofts, over, year, &, plan, ...  4.00  \n",
       "3     [resident, complex, months, first, moved, i, ....  4.00  \n",
       "4     [really, love, enjoy, views, ,, walk, around, ...  4.00  \n",
       "...                                                 ...   ...  \n",
       "4830  [husband, little, over, week, love, it, ., chr...  6.75  \n",
       "4831  [amazing, !, ladies, willing, work, issues, ma...  6.75  \n",
       "4832  [team, bias, -, hispanic, ,, apartment, not, ,...  6.75  \n",
       "4833  [mailbox, keeps, getting, broken, i’ve, pay, f...  6.75  \n",
       "4834  [got, mugged, here, ., resident, so, ,, parked...  6.75  \n",
       "\n",
       "[4835 rows x 11 columns]"
      ]
     },
     "execution_count": 68,
     "metadata": {},
     "output_type": "execute_result"
    }
   ],
   "source": [
    "data1['rank'] = ((data1['score'] - score_max)/(score_min - score_max)) * (new_max - new_min) + new_min\n",
    "\n",
    "data1\n",
    "\n",
    "#data2['plumbing_score'] = ((data2['plumbing_perc'] - plumbing_min)/(plumbing_max - plumbing_min)) * (new_max - new_min) + new_min\n",
    "\n",
    "#data2\n",
    "\n"
   ]
  },
  {
   "cell_type": "code",
   "execution_count": 69,
   "metadata": {
    "id": "zHqkpFMYw3Pe"
   },
   "outputs": [
    {
     "name": "stderr",
     "output_type": "stream",
     "text": [
      "/opt/anaconda3/envs/mypytorch/lib/python3.8/site-packages/geopandas/geodataframe.py:1321: UserWarning: Geometry column does not contain geometry.\n",
      "  warnings.warn(\"Geometry column does not contain geometry.\")\n"
     ]
    },
    {
     "data": {
      "text/html": [
       "<div>\n",
       "<style scoped>\n",
       "    .dataframe tbody tr th:only-of-type {\n",
       "        vertical-align: middle;\n",
       "    }\n",
       "\n",
       "    .dataframe tbody tr th {\n",
       "        vertical-align: top;\n",
       "    }\n",
       "\n",
       "    .dataframe thead th {\n",
       "        text-align: right;\n",
       "    }\n",
       "</style>\n",
       "<table border=\"1\" class=\"dataframe\">\n",
       "  <thead>\n",
       "    <tr style=\"text-align: right;\">\n",
       "      <th></th>\n",
       "      <th>title</th>\n",
       "      <th>href</th>\n",
       "      <th>score</th>\n",
       "      <th>location</th>\n",
       "      <th>lat</th>\n",
       "      <th>lon</th>\n",
       "      <th>review_content</th>\n",
       "      <th>review_time</th>\n",
       "      <th>create_time</th>\n",
       "      <th>review_content_low</th>\n",
       "      <th>rank</th>\n",
       "      <th>geometry</th>\n",
       "    </tr>\n",
       "  </thead>\n",
       "  <tbody>\n",
       "    <tr>\n",
       "      <th>0</th>\n",
       "      <td>Lakeside Lofts</td>\n",
       "      <td>https://www.google.com/maps/search/Lakeside+Lo...</td>\n",
       "      <td>3.4</td>\n",
       "      <td>11500 Lago Vista E, Farmers Branch, TX 75234, ...</td>\n",
       "      <td>-96.923746</td>\n",
       "      <td>32.901693</td>\n",
       "      <td>This will be my home for a long time thanks to...</td>\n",
       "      <td>get time error</td>\n",
       "      <td>2022-05-03 17:31:59</td>\n",
       "      <td>[home, long, time, thanks, community, area, po...</td>\n",
       "      <td>4.0</td>\n",
       "      <td>POINT (-96.92375 32.90169)</td>\n",
       "    </tr>\n",
       "    <tr>\n",
       "      <th>1</th>\n",
       "      <td>Lakeside Lofts</td>\n",
       "      <td>https://www.google.com/maps/search/Lakeside+Lo...</td>\n",
       "      <td>3.4</td>\n",
       "      <td>11500 Lago Vista E, Farmers Branch, TX 75234, ...</td>\n",
       "      <td>-96.923746</td>\n",
       "      <td>32.901693</td>\n",
       "      <td>Apartment hunting is stressful and you never r...</td>\n",
       "      <td>get time error</td>\n",
       "      <td>2022-05-03 17:31:59</td>\n",
       "      <td>[apartment, hunting, stressful, never, really,...</td>\n",
       "      <td>4.0</td>\n",
       "      <td>POINT (-96.92375 32.90169)</td>\n",
       "    </tr>\n",
       "    <tr>\n",
       "      <th>2</th>\n",
       "      <td>Lakeside Lofts</td>\n",
       "      <td>https://www.google.com/maps/search/Lakeside+Lo...</td>\n",
       "      <td>3.4</td>\n",
       "      <td>11500 Lago Vista E, Farmers Branch, TX 75234, ...</td>\n",
       "      <td>-96.923746</td>\n",
       "      <td>32.901693</td>\n",
       "      <td>I have lived at Lakeside Lofts for over a year...</td>\n",
       "      <td>get time error</td>\n",
       "      <td>2022-05-03 17:31:59</td>\n",
       "      <td>[lived, lakeside, lofts, over, year, &amp;, plan, ...</td>\n",
       "      <td>4.0</td>\n",
       "      <td>POINT (-96.92375 32.90169)</td>\n",
       "    </tr>\n",
       "    <tr>\n",
       "      <th>3</th>\n",
       "      <td>Lakeside Lofts</td>\n",
       "      <td>https://www.google.com/maps/search/Lakeside+Lo...</td>\n",
       "      <td>3.4</td>\n",
       "      <td>11500 Lago Vista E, Farmers Branch, TX 75234, ...</td>\n",
       "      <td>-96.923746</td>\n",
       "      <td>32.901693</td>\n",
       "      <td>I was a resident of this complex for 14 months...</td>\n",
       "      <td>get time error</td>\n",
       "      <td>2022-05-03 17:31:59</td>\n",
       "      <td>[resident, complex, months, first, moved, i, ....</td>\n",
       "      <td>4.0</td>\n",
       "      <td>POINT (-96.92375 32.90169)</td>\n",
       "    </tr>\n",
       "    <tr>\n",
       "      <th>4</th>\n",
       "      <td>Lakeside Lofts</td>\n",
       "      <td>https://www.google.com/maps/search/Lakeside+Lo...</td>\n",
       "      <td>3.4</td>\n",
       "      <td>11500 Lago Vista E, Farmers Branch, TX 75234, ...</td>\n",
       "      <td>-96.923746</td>\n",
       "      <td>32.901693</td>\n",
       "      <td>I really love and enjoy the views, the walk ar...</td>\n",
       "      <td>get time error</td>\n",
       "      <td>2022-05-03 17:31:59</td>\n",
       "      <td>[really, love, enjoy, views, ,, walk, around, ...</td>\n",
       "      <td>4.0</td>\n",
       "      <td>POINT (-96.92375 32.90169)</td>\n",
       "    </tr>\n",
       "  </tbody>\n",
       "</table>\n",
       "</div>"
      ],
      "text/plain": [
       "            title                                               href  score  \\\n",
       "0  Lakeside Lofts  https://www.google.com/maps/search/Lakeside+Lo...    3.4   \n",
       "1  Lakeside Lofts  https://www.google.com/maps/search/Lakeside+Lo...    3.4   \n",
       "2  Lakeside Lofts  https://www.google.com/maps/search/Lakeside+Lo...    3.4   \n",
       "3  Lakeside Lofts  https://www.google.com/maps/search/Lakeside+Lo...    3.4   \n",
       "4  Lakeside Lofts  https://www.google.com/maps/search/Lakeside+Lo...    3.4   \n",
       "\n",
       "                                            location        lat        lon  \\\n",
       "0  11500 Lago Vista E, Farmers Branch, TX 75234, ... -96.923746  32.901693   \n",
       "1  11500 Lago Vista E, Farmers Branch, TX 75234, ... -96.923746  32.901693   \n",
       "2  11500 Lago Vista E, Farmers Branch, TX 75234, ... -96.923746  32.901693   \n",
       "3  11500 Lago Vista E, Farmers Branch, TX 75234, ... -96.923746  32.901693   \n",
       "4  11500 Lago Vista E, Farmers Branch, TX 75234, ... -96.923746  32.901693   \n",
       "\n",
       "                                      review_content     review_time  \\\n",
       "0  This will be my home for a long time thanks to...  get time error   \n",
       "1  Apartment hunting is stressful and you never r...  get time error   \n",
       "2  I have lived at Lakeside Lofts for over a year...  get time error   \n",
       "3  I was a resident of this complex for 14 months...  get time error   \n",
       "4  I really love and enjoy the views, the walk ar...  get time error   \n",
       "\n",
       "           create_time                                 review_content_low  \\\n",
       "0  2022-05-03 17:31:59  [home, long, time, thanks, community, area, po...   \n",
       "1  2022-05-03 17:31:59  [apartment, hunting, stressful, never, really,...   \n",
       "2  2022-05-03 17:31:59  [lived, lakeside, lofts, over, year, &, plan, ...   \n",
       "3  2022-05-03 17:31:59  [resident, complex, months, first, moved, i, ....   \n",
       "4  2022-05-03 17:31:59  [really, love, enjoy, views, ,, walk, around, ...   \n",
       "\n",
       "   rank                    geometry  \n",
       "0   4.0  POINT (-96.92375 32.90169)  \n",
       "1   4.0  POINT (-96.92375 32.90169)  \n",
       "2   4.0  POINT (-96.92375 32.90169)  \n",
       "3   4.0  POINT (-96.92375 32.90169)  \n",
       "4   4.0  POINT (-96.92375 32.90169)  "
      ]
     },
     "execution_count": 69,
     "metadata": {},
     "output_type": "execute_result"
    }
   ],
   "source": [
    "data1_plot = gpd.GeoDataFrame(data1)\n",
    "data1_plot[\"geometry\"]= gpd.GeoDataFrame(geometry=gpd.points_from_xy(data1_plot[\"lat\"],data1_plot[\"lon\"]))\n",
    "data1_plot[\"geometry\"] = data1_plot[\"geometry\"].apply(find_multi)\n",
    "data1_plot.head()"
   ]
  },
  {
   "cell_type": "code",
   "execution_count": 70,
   "metadata": {
    "id": "MbDqZ2Ilw-80"
   },
   "outputs": [
    {
     "data": {
      "text/plain": [
       "<AxesSubplot:>"
      ]
     },
     "execution_count": 70,
     "metadata": {},
     "output_type": "execute_result"
    },
    {
     "data": {
      "image/png": "[encoded data removed]",
      "text/plain": [
       "<Figure size 1440x720 with 1 Axes>"
      ]
     },
     "metadata": {
      "needs_background": "light"
     },
     "output_type": "display_data"
    }
   ],
   "source": [
    "data1_plot.plot(column='rank', legend=True, figsize=(20,10),k=10, scheme='Quantiles'\n",
    "           , legend_kwds={'loc': 'lower left'}, cmap='viridis_r')"
   ]
  },
  {
   "cell_type": "code",
   "execution_count": 71,
   "metadata": {
    "id": "O81vQ7fN8VmZ"
   },
   "outputs": [
    {
     "data": {
      "text/plain": [
       "array([[<AxesSubplot:title={'center':'rank'}>]], dtype=object)"
      ]
     },
     "execution_count": 71,
     "metadata": {},
     "output_type": "execute_result"
    },
    {
     "data": {
      "image/png": "[encoded data removed]",
      "text/plain": [
       "<Figure size 432x288 with 1 Axes>"
      ]
     },
     "metadata": {
      "needs_background": "light"
     },
     "output_type": "display_data"
    }
   ],
   "source": [
    "data1.hist(column='rank')"
   ]
  },
  {
   "cell_type": "code",
   "execution_count": 76,
   "metadata": {
    "id": "l6oTw_ZV8VmZ"
   },
   "outputs": [
    {
     "ename": "SyntaxError",
     "evalue": "invalid syntax (<ipython-input-76-26ae6b0c7caa>, line 1)",
     "output_type": "error",
     "traceback": [
      "\u001b[0;36m  File \u001b[0;32m\"<ipython-input-76-26ae6b0c7caa>\"\u001b[0;36m, line \u001b[0;32m1\u001b[0m\n\u001b[0;31m    pip install geopandas\u001b[0m\n\u001b[0m        ^\u001b[0m\n\u001b[0;31mSyntaxError\u001b[0m\u001b[0;31m:\u001b[0m invalid syntax\n"
     ]
    }
   ],
   "source": [
    "pip install geopandas\n",
    "pip install geopy"
   ]
  },
  {
   "cell_type": "markdown",
   "metadata": {
    "id": "el3conUjKOQO"
   },
   "source": []
  },
  {
   "cell_type": "code",
   "execution_count": null,
   "metadata": {
    "colab": {
     "base_uri": "https://localhost:8080/",
     "height": 132
    },
    "id": "KDg74DaNG-wo",
    "outputId": "2acca71c-87cd-467e-b983-7b6aa9034464"
   },
   "outputs": [],
   "source": [
    "df = pd.read_csv(“addresses.csv”)\n",
    "df.head()"
   ]
  },
  {
   "cell_type": "code",
   "execution_count": null,
   "metadata": {
    "colab": {
     "base_uri": "https://localhost:8080/",
     "height": 132
    },
    "id": "rN5MY8LA8VmZ",
    "outputId": "2cfd4e11-5638-47e8-d64a-4d9f5e8ac0e2"
   },
   "outputs": [
    {
     "ename": "SyntaxError",
     "evalue": "ignored",
     "output_type": "error",
     "traceback": [
      "\u001b[0;36m  File \u001b[0;32m\"<ipython-input-7-02cb27cc6274>\"\u001b[0;36m, line \u001b[0;32m10\u001b[0m\n\u001b[0;31m    df[['latitude', 'longitude', 'altitude']] = pd.DataFrame(df['point'].tolist(), index=df.index\u001b[0m\n\u001b[0m                                                                                                 ^\u001b[0m\n\u001b[0;31mSyntaxError\u001b[0m\u001b[0;31m:\u001b[0m unexpected EOF while parsing\n"
     ]
    }
   ],
   "source": [
    "from geopy.extra.rate_limiter import RateLimiter\n",
    "\n",
    "# 1 - conveneint function to delay between geocoding calls\n",
    "geocode = RateLimiter(locator.geocode, min_delay_seconds=1)\n",
    "# 2- - create location column\n",
    "df['location'] = df['ADDRESS'].apply(geocode)\n",
    "# 3 - create longitude, laatitude and altitude from location column (returns tuple)\n",
    "df['point'] = df['location'].apply(lambda loc: tuple(loc.point) if loc else None)\n",
    "# 4 - split point column into latitude, longitude and altitude columns\n",
    "df[['latitude', 'longitude', 'altitude']] = pd.DataFrame(df['point'].tolist(), index=df.index"
   ]
  },
  {
   "cell_type": "code",
   "execution_count": null,
   "metadata": {
    "id": "77hee9078VmZ"
   },
   "outputs": [],
   "source": []
  },
  {
   "cell_type": "code",
   "execution_count": null,
   "metadata": {
    "id": "UVC60tqV8VmZ"
   },
   "outputs": [],
   "source": []
  },
  {
   "cell_type": "code",
   "execution_count": null,
   "metadata": {
    "id": "IIRy6xhK8VmZ"
   },
   "outputs": [],
   "source": []
  },
  {
   "cell_type": "code",
   "execution_count": null,
   "metadata": {
    "id": "fd7gkAk88VmZ"
   },
   "outputs": [],
   "source": []
  }
 ],
 "metadata": {
  "colab": {
   "collapsed_sections": [],
   "name": "Google_Review_Text_Analysis_(1).ipynb",
   "provenance": []
  },
  "kernelspec": {
   "display_name": "Python 3",
   "language": "python",
   "name": "python3"
  },
  "language_info": {
   "codemirror_mode": {
    "name": "ipython",
    "version": 3
   },
   "file_extension": ".py",
   "mimetype": "text/x-python",
   "name": "python",
   "nbconvert_exporter": "python",
   "pygments_lexer": "ipython3",
   "version": "3.8.2"
  }
 },
 "nbformat": 4,
 "nbformat_minor": 1
}
