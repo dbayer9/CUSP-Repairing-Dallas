{
 "cells": [
  {
   "cell_type": "code",
   "execution_count": 1,
   "id": "281bfd4c",
   "metadata": {},
   "outputs": [],
   "source": [
    "import json"
   ]
  },
  {
   "cell_type": "code",
   "execution_count": 8,
   "id": "b5bb8ee0",
   "metadata": {},
   "outputs": [],
   "source": [
    "fileNameStr = 'locatNewList503'\n",
    "filename = r'locatNewList503.json'\n",
    "with open(filename,encoding='GB2312') as f:\n",
    "    get_data = json.load(f)\n",
    "for i in get_data:\n",
    "    title = i['name']\n",
    "    href = i['realUrl']\n",
    "    score = i['score']\n",
    "    lat = i['lat']\n",
    "    lon = i['lon']\n",
    "    location = i['location']\n",
    "    remark = i['remark']"
   ]
  },
  {
   "cell_type": "code",
   "execution_count": 4,
   "id": "a0d35957",
   "metadata": {},
   "outputs": [
    {
     "name": "stdout",
     "output_type": "stream",
     "text": [
      "Sheraton Suites Market Center Dallas\n"
     ]
    }
   ],
   "source": [
    "print(i['title'])"
   ]
  },
  {
   "cell_type": "code",
   "execution_count": 13,
   "id": "4fd27b3f",
   "metadata": {},
   "outputs": [],
   "source": [
    "import xlwt\n",
    "import json\n",
    "import time\n",
    "fileNameStr = 'locatNewList503'\n",
    "filename = r'{}.json'.format(fileNameStr)\n",
    "with open(filename,encoding='GB2312') as f:\n",
    "    get_data = json.load(f)\n",
    "\n",
    "wb = xlwt.Workbook()\n",
    "sh = wb.add_sheet('data')\n",
    "rowIndex = 1\n",
    "sh.write(0,0,'title')\n",
    "sh.write(0,1,'href')\n",
    "sh.write(0,2,'score')\n",
    "sh.write(0,3,'location')\n",
    "sh.write(0,4,'lat')\n",
    "sh.write(0,5,'lon')\n",
    "sh.write(0,6,'review_content')\n",
    "sh.write(0,7,'review_time')\n",
    "sh.write(0,8,'create_time')\n",
    "for i in get_data:\n",
    "    title = i['name']\n",
    "    href = i['realUrl']\n",
    "    score = i['score']\n",
    "    lat = i['lat']\n",
    "    lon = i['lon']\n",
    "    location = i['location']\n",
    "    remarkList = i['remark']\n",
    "    for remark in remarkList:\n",
    "        if len(remark) == 0:\n",
    "            continue\n",
    "        sh.write(rowIndex,0,title)\n",
    "        sh.write(rowIndex,1,href)\n",
    "        sh.write(rowIndex,2,score)\n",
    "        sh.write(rowIndex,3,location)\n",
    "        sh.write(rowIndex,4,lat)\n",
    "        sh.write(rowIndex,5,lon)\n",
    "        sh.write(rowIndex,6,remark['content'])\n",
    "        sh.write(rowIndex,7,remark['time'])\n",
    "        sh.write(rowIndex,8,time.strftime(\"%Y-%m-%d %H:%M:%S\", time.localtime()) )\n",
    "        rowIndex = rowIndex +1\n",
    "wb.save('{}.xls'.format(fileNameStr))"
   ]
  },
  {
   "cell_type": "code",
   "execution_count": null,
   "id": "8a0fd9e7",
   "metadata": {},
   "outputs": [],
   "source": []
  }
 ],
 "metadata": {
  "kernelspec": {
   "display_name": "Python 3",
   "language": "python",
   "name": "python3"
  },
  "language_info": {
   "codemirror_mode": {
    "name": "ipython",
    "version": 3
   },
   "file_extension": ".py",
   "mimetype": "text/x-python",
   "name": "python",
   "nbconvert_exporter": "python",
   "pygments_lexer": "ipython3",
   "version": "3.8.8"
  }
 },
 "nbformat": 4,
 "nbformat_minor": 5
}
